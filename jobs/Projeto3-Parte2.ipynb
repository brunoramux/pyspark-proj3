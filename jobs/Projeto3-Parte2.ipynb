{
 "cells": [
  {
   "cell_type": "markdown",
   "id": "63182591",
   "metadata": {},
   "source": [
    "<!-- Projeto Desenvolvido na Data Science Academy - www.datascienceacademy.com.br -->\n",
    "# <font color='blue'>Data Science Academy</font>\n",
    "## <font color='blue'>PySpark e Apache Kafka Para Processamento de Dados em Batch e Streaming</font>\n",
    "## <font color='blue'>Projeto 3</font>\n",
    "### <font color='blue'>Pipeline de Limpeza e Transformação Para Aplicações de IA com PySpark SQL</font>"
   ]
  },
  {
   "cell_type": "markdown",
   "id": "398c6d0b",
   "metadata": {},
   "source": [
    "## Pacotes Python Usados no Projeto"
   ]
  },
  {
   "cell_type": "code",
   "execution_count": 1,
   "id": "181cb9cd",
   "metadata": {},
   "outputs": [],
   "source": [
    "# Imports\n",
    "import os\n",
    "import pyspark\n",
    "import pandas as pd\n",
    "import numpy as np\n",
    "import pyspark.sql.functions as F\n",
    "import pyspark.ml.evaluation as evals\n",
    "import pyspark.ml.tuning as tune\n",
    "from pyspark.sql import SparkSession\n",
    "from pyspark.ml import Pipeline\n",
    "from pyspark.ml.feature import StringIndexer, OneHotEncoder\n",
    "from pyspark.ml.feature import  VectorAssembler\n",
    "from pyspark.ml.classification import LogisticRegression, LogisticRegressionModel\n",
    "from pyspark.ml.classification import RandomForestClassifier\n",
    "from pyspark.ml.evaluation import BinaryClassificationEvaluator\n",
    "from pyspark.ml.tuning import ParamGridBuilder, CrossValidator\n",
    "from pyspark.sql.functions import round, desc"
   ]
  },
  {
   "cell_type": "code",
   "execution_count": 2,
   "id": "e159cbbc",
   "metadata": {},
   "outputs": [
    {
     "name": "stdout",
     "output_type": "stream",
     "text": [
      "Author: Data Science Academy\n",
      "\n"
     ]
    }
   ],
   "source": [
    "# Versões dos pacotes usados neste jupyter notebook\n",
    "%reload_ext watermark\n",
    "%watermark -a \"Data Science Academy\""
   ]
  },
  {
   "cell_type": "markdown",
   "id": "633afd61",
   "metadata": {},
   "source": [
    "## Criando a Sessão Spark e Definindo o Nível de Log"
   ]
  },
  {
   "cell_type": "code",
   "execution_count": 4,
   "id": "5d44a0d1",
   "metadata": {},
   "outputs": [],
   "source": [
    "# Cria a sessão\n",
    "spark = SparkSession.builder.appName('Projeto3-Exp').getOrCreate()"
   ]
  },
  {
   "cell_type": "code",
   "execution_count": 5,
   "id": "9055d3bb",
   "metadata": {},
   "outputs": [],
   "source": [
    "# Define o nível de log\n",
    "spark.sparkContext.setLogLevel(\"ERROR\")"
   ]
  },
  {
   "cell_type": "markdown",
   "id": "665da3f6",
   "metadata": {},
   "source": [
    "<!-- Projeto Desenvolvido na Data Science Academy - www.datascienceacademy.com.br -->\n",
    "## Carregando os Datasets a Partir do HDFS"
   ]
  },
  {
   "cell_type": "code",
   "execution_count": 6,
   "id": "dcb722bd-73a0-46d8-9f48-5a1ea7c64d1b",
   "metadata": {},
   "outputs": [
    {
     "name": "stderr",
     "output_type": "stream",
     "text": [
      "                                                                                \r"
     ]
    }
   ],
   "source": [
    "# Carrega o arquivo 1\n",
    "df_dsa_aeroportos = spark.read.csv(\"/opt/spark/data/dataset1.csv\", header = True)"
   ]
  },
  {
   "cell_type": "code",
   "execution_count": 7,
   "id": "dc07ddd4-7de6-4891-a9f8-916e62262b3e",
   "metadata": {},
   "outputs": [
    {
     "data": {
      "text/plain": [
       "pyspark.sql.dataframe.DataFrame"
      ]
     },
     "execution_count": 7,
     "metadata": {},
     "output_type": "execute_result"
    }
   ],
   "source": [
    "type(df_dsa_aeroportos)"
   ]
  },
  {
   "cell_type": "code",
   "execution_count": 8,
   "id": "fe512742",
   "metadata": {},
   "outputs": [
    {
     "name": "stdout",
     "output_type": "stream",
     "text": [
      "+---+--------------------+----------+------------+----+---+---+\n",
      "|faa|                name|       lat|         lon| alt| tz|dst|\n",
      "+---+--------------------+----------+------------+----+---+---+\n",
      "|04G|   Lansdowne Airport|41.1304722| -80.6195833|1044| -5|  A|\n",
      "|06A|Moton Field Munic...|32.4605722| -85.6800278| 264| -5|  A|\n",
      "|06C| Schaumburg Regional|41.9893408| -88.1012428| 801| -6|  A|\n",
      "|06N|     Randall Airport| 41.431912| -74.3915611| 523| -5|  A|\n",
      "|09J|Jekyll Island Air...|31.0744722| -81.4277778|  11| -4|  A|\n",
      "|0A9|Elizabethton Muni...|36.3712222| -82.1734167|1593| -4|  A|\n",
      "|0G6|Williams County A...|41.4673056| -84.5067778| 730| -5|  A|\n",
      "|0G7|Finger Lakes Regi...|42.8835647| -76.7812318| 492| -5|  A|\n",
      "|0P2|Shoestring Aviati...|39.7948244| -76.6471914|1000| -5|  U|\n",
      "|0S9|Jefferson County ...|48.0538086|-122.8106436| 108| -8|  A|\n",
      "+---+--------------------+----------+------------+----+---+---+\n",
      "only showing top 10 rows\n",
      "\n"
     ]
    }
   ],
   "source": [
    "df_dsa_aeroportos.show(10)"
   ]
  },
  {
   "cell_type": "code",
   "execution_count": 9,
   "id": "98a99882-5588-4e10-9af4-68a74b29466c",
   "metadata": {},
   "outputs": [],
   "source": [
    "# Carrega o arquivo 2\n",
    "df_dsa_voos = spark.read.csv(\"/opt/spark/data/dataset2.csv\", header = True)"
   ]
  },
  {
   "cell_type": "code",
   "execution_count": 10,
   "id": "9d6b6e09",
   "metadata": {},
   "outputs": [
    {
     "name": "stderr",
     "output_type": "stream",
     "text": [
      "[Stage 3:>                                                          (0 + 1) / 1]\r"
     ]
    },
    {
     "name": "stdout",
     "output_type": "stream",
     "text": [
      "+----+-----+---+--------+---------+--------+---------+-------+-------+------+------+----+--------+--------+----+------+\n",
      "|year|month|day|dep_time|dep_delay|arr_time|arr_delay|carrier|tailnum|flight|origin|dest|air_time|distance|hour|minute|\n",
      "+----+-----+---+--------+---------+--------+---------+-------+-------+------+------+----+--------+--------+----+------+\n",
      "|2014|   12|  8|     658|       -7|     935|       -5|     VX| N846VA|  1780|   SEA| LAX|     132|     954|   6|    58|\n",
      "|2014|    1| 22|    1040|        5|    1505|        5|     AS| N559AS|   851|   SEA| HNL|     360|    2677|  10|    40|\n",
      "|2014|    3|  9|    1443|       -2|    1652|        2|     VX| N847VA|   755|   SEA| SFO|     111|     679|  14|    43|\n",
      "|2014|    4|  9|    1705|       45|    1839|       34|     WN| N360SW|   344|   PDX| SJC|      83|     569|  17|     5|\n",
      "|2014|    3|  9|     754|       -1|    1015|        1|     AS| N612AS|   522|   SEA| BUR|     127|     937|   7|    54|\n",
      "|2014|    1| 15|    1037|        7|    1352|        2|     WN| N646SW|    48|   PDX| DEN|     121|     991|  10|    37|\n",
      "|2014|    7|  2|     847|       42|    1041|       51|     WN| N422WN|  1520|   PDX| OAK|      90|     543|   8|    47|\n",
      "|2014|    5| 12|    1655|       -5|    1842|      -18|     VX| N361VA|   755|   SEA| SFO|      98|     679|  16|    55|\n",
      "|2014|    4| 19|    1236|       -4|    1508|       -7|     AS| N309AS|   490|   SEA| SAN|     135|    1050|  12|    36|\n",
      "|2014|   11| 19|    1812|       -3|    2352|       -4|     AS| N564AS|    26|   SEA| ORD|     198|    1721|  18|    12|\n",
      "+----+-----+---+--------+---------+--------+---------+-------+-------+------+------+----+--------+--------+----+------+\n",
      "only showing top 10 rows\n",
      "\n"
     ]
    },
    {
     "name": "stderr",
     "output_type": "stream",
     "text": [
      "                                                                                \r"
     ]
    }
   ],
   "source": [
    "df_dsa_voos.show(10)"
   ]
  },
  {
   "cell_type": "code",
   "execution_count": 11,
   "id": "64508433-ef3f-45a0-9395-bdac80c39a0b",
   "metadata": {},
   "outputs": [],
   "source": [
    "# Carrega o arquivo 3\n",
    "df_dsa_aeronaves = spark.read.csv(\"/opt/spark/data/dataset3.csv\", header = True)"
   ]
  },
  {
   "cell_type": "code",
   "execution_count": 12,
   "id": "56bbb57d-335c-472d-97b7-b9886e8e8338",
   "metadata": {},
   "outputs": [
    {
     "name": "stdout",
     "output_type": "stream",
     "text": [
      "+-------+----+--------------------+----------------+--------+-------+-----+-----+---------+\n",
      "|tailnum|year|                type|    manufacturer|   model|engines|seats|speed|   engine|\n",
      "+-------+----+--------------------+----------------+--------+-------+-----+-----+---------+\n",
      "| N102UW|1998|Fixed wing multi ...|AIRBUS INDUSTRIE|A320-214|      2|  182|   NA|Turbo-fan|\n",
      "| N103US|1999|Fixed wing multi ...|AIRBUS INDUSTRIE|A320-214|      2|  182|   NA|Turbo-fan|\n",
      "| N104UW|1999|Fixed wing multi ...|AIRBUS INDUSTRIE|A320-214|      2|  182|   NA|Turbo-fan|\n",
      "| N105UW|1999|Fixed wing multi ...|AIRBUS INDUSTRIE|A320-214|      2|  182|   NA|Turbo-fan|\n",
      "| N107US|1999|Fixed wing multi ...|AIRBUS INDUSTRIE|A320-214|      2|  182|   NA|Turbo-fan|\n",
      "| N108UW|1999|Fixed wing multi ...|AIRBUS INDUSTRIE|A320-214|      2|  182|   NA|Turbo-fan|\n",
      "| N109UW|1999|Fixed wing multi ...|AIRBUS INDUSTRIE|A320-214|      2|  182|   NA|Turbo-fan|\n",
      "| N110UW|1999|Fixed wing multi ...|AIRBUS INDUSTRIE|A320-214|      2|  182|   NA|Turbo-fan|\n",
      "| N111US|1999|Fixed wing multi ...|AIRBUS INDUSTRIE|A320-214|      2|  182|   NA|Turbo-fan|\n",
      "| N11206|2000|Fixed wing multi ...|          BOEING| 737-824|      2|  149|   NA|Turbo-fan|\n",
      "+-------+----+--------------------+----------------+--------+-------+-----+-----+---------+\n",
      "only showing top 10 rows\n",
      "\n"
     ]
    }
   ],
   "source": [
    "df_dsa_aeronaves.show(10)"
   ]
  },
  {
   "cell_type": "markdown",
   "id": "d0a0e416-d75e-4798-a44a-0e967227c3a2",
   "metadata": {},
   "source": [
    "Vamos converter esses dados para o formato:\n",
    "\n",
    "- Dados de entrada --> ['month', 'air_time', 'carr_fact', 'dest_fact', 'plane_age'] como o vetor features.\n",
    "- Dados de saída --> ['is_late'] com o nome label.\n",
    "\n",
    "E então usaremos os dados nesse formato para treinar e avaliar dois modelos de Machine Learning. Escolheremos o melhor modelo e então criaremos o job de automação do processo de treinamento no cluster Spark."
   ]
  },
  {
   "cell_type": "markdown",
   "id": "2b8953f8",
   "metadata": {},
   "source": [
    "## Exploração e Limpeza dos Dados"
   ]
  },
  {
   "cell_type": "code",
   "execution_count": 13,
   "id": "abbc7e05-a1a6-47c6-8b54-4d3cc84d7114",
   "metadata": {},
   "outputs": [],
   "source": [
    "# Cria tabela temporária\n",
    "df_dsa_voos.createOrReplaceTempView('voos')"
   ]
  },
  {
   "cell_type": "markdown",
   "id": "c5b918cf-c912-47fe-a036-7c9dd132a36c",
   "metadata": {},
   "source": [
    "Se você deseja executar consultas SQL diretamente sobre os dados, criar uma tabela temporária permite usar a sintaxe SQL para filtrar, agrupar e manipular os dados de forma que pode ser mais intuitiva ou mais fácil de expressar do que utilizando as APIs do DataFrame."
   ]
  },
  {
   "cell_type": "code",
   "execution_count": 14,
   "id": "61d2e422",
   "metadata": {},
   "outputs": [
    {
     "data": {
      "text/plain": [
       "[Table(name='voos', catalog=None, namespace=[], description=None, tableType='TEMPORARY', isTemporary=True)]"
      ]
     },
     "execution_count": 14,
     "metadata": {},
     "output_type": "execute_result"
    }
   ],
   "source": [
    "# Lista as tabelas\n",
    "spark.catalog.listTables()"
   ]
  },
  {
   "cell_type": "code",
   "execution_count": 15,
   "id": "8c31f5cc-c817-402b-976f-278e7fcf52e9",
   "metadata": {},
   "outputs": [],
   "source": [
    "# Consulta SQL\n",
    "query = \"\"\"\n",
    "SELECT \n",
    "    carrier AS companhia_aerea,\n",
    "    COUNT(*) AS total_voos,\n",
    "    ROUND(AVG(dep_delay), 2) AS media_atraso_partida,\n",
    "    ROUND(AVG(arr_delay), 2) AS media_atraso_chegada,\n",
    "    MAX(dep_delay) AS maior_atraso_partida,\n",
    "    MAX(arr_delay) AS maior_atraso_chegada\n",
    "FROM \n",
    "    voos\n",
    "WHERE \n",
    "    dep_delay > 0 OR arr_delay > 0\n",
    "GROUP BY \n",
    "    carrier\n",
    "ORDER BY \n",
    "    media_atraso_chegada DESC\n",
    "\"\"\""
   ]
  },
  {
   "cell_type": "code",
   "execution_count": 16,
   "id": "2c7f4eb7-c4d9-4670-9411-6d5250d63cea",
   "metadata": {},
   "outputs": [],
   "source": [
    "# Executa a consulta SQL e armazena o resultado em um DataFrame\n",
    "df_result = spark.sql(query)"
   ]
  },
  {
   "cell_type": "code",
   "execution_count": 17,
   "id": "556baa98-c20e-4858-8f3b-d129a9a69857",
   "metadata": {},
   "outputs": [
    {
     "name": "stderr",
     "output_type": "stream",
     "text": [
      "[Stage 8:>                                                          (0 + 1) / 1]\r"
     ]
    },
    {
     "name": "stdout",
     "output_type": "stream",
     "text": [
      "+---------------+----------+--------------------+--------------------+--------------------+--------------------+\n",
      "|companhia_aerea|total_voos|media_atraso_partida|media_atraso_chegada|maior_atraso_partida|maior_atraso_chegada|\n",
      "+---------------+----------+--------------------+--------------------+--------------------+--------------------+\n",
      "|             HA|        31|                14.9|               28.68|                   9|                   9|\n",
      "|             VX|        63|               29.89|                28.6|                  96|                  95|\n",
      "|             AA|       243|               27.61|               27.09|                  97|                  NA|\n",
      "|             OO|       421|                19.8|               22.51|                  95|                  NA|\n",
      "|             UA|       540|               23.71|               19.91|                  99|                  NA|\n",
      "|             B6|       103|               20.21|               19.49|                  92|                  99|\n",
      "|             F9|        95|               18.09|               18.95|                   9|                   9|\n",
      "|             DL|       504|                18.0|               17.19|                  96|                  NA|\n",
      "|             WN|       863|               20.87|                16.0|                  96|                  NA|\n",
      "|             AS|      1782|                11.5|               14.33|                  99|                  NA|\n",
      "|             US|       154|               13.25|               14.01|                   9|                  97|\n",
      "+---------------+----------+--------------------+--------------------+--------------------+--------------------+\n",
      "\n"
     ]
    },
    {
     "name": "stderr",
     "output_type": "stream",
     "text": [
      "                                                                                \r"
     ]
    }
   ],
   "source": [
    "# Mostra o resultado\n",
    "df_result.show()"
   ]
  },
  {
   "cell_type": "markdown",
   "id": "943ca0a3-4eb4-47c8-a52b-98b7f191eba7",
   "metadata": {},
   "source": [
    "Criar um DataFrame diretamente a partir de outro DataFrame é mais direto e consome menos recursos do que criar uma tabela temporária intermediária. Se seu uso é apenas para operações simples ou manipulações diretas, é mais eficiente trabalhar com o DataFrame diretamente."
   ]
  },
  {
   "cell_type": "code",
   "execution_count": 18,
   "id": "b3ff6db2-58f5-4206-9523-b2f94028dd24",
   "metadata": {},
   "outputs": [],
   "source": [
    "# Cria um dataframe a partir da tabela temporária\n",
    "df_voos = spark.table('voos')"
   ]
  },
  {
   "cell_type": "code",
   "execution_count": 19,
   "id": "55f04972",
   "metadata": {},
   "outputs": [
    {
     "name": "stdout",
     "output_type": "stream",
     "text": [
      "+----+-----+---+--------+---------+--------+---------+-------+-------+------+------+----+--------+--------+----+------+\n",
      "|year|month|day|dep_time|dep_delay|arr_time|arr_delay|carrier|tailnum|flight|origin|dest|air_time|distance|hour|minute|\n",
      "+----+-----+---+--------+---------+--------+---------+-------+-------+------+------+----+--------+--------+----+------+\n",
      "|2014|   12|  8|     658|       -7|     935|       -5|     VX| N846VA|  1780|   SEA| LAX|     132|     954|   6|    58|\n",
      "|2014|    1| 22|    1040|        5|    1505|        5|     AS| N559AS|   851|   SEA| HNL|     360|    2677|  10|    40|\n",
      "|2014|    3|  9|    1443|       -2|    1652|        2|     VX| N847VA|   755|   SEA| SFO|     111|     679|  14|    43|\n",
      "|2014|    4|  9|    1705|       45|    1839|       34|     WN| N360SW|   344|   PDX| SJC|      83|     569|  17|     5|\n",
      "|2014|    3|  9|     754|       -1|    1015|        1|     AS| N612AS|   522|   SEA| BUR|     127|     937|   7|    54|\n",
      "|2014|    1| 15|    1037|        7|    1352|        2|     WN| N646SW|    48|   PDX| DEN|     121|     991|  10|    37|\n",
      "|2014|    7|  2|     847|       42|    1041|       51|     WN| N422WN|  1520|   PDX| OAK|      90|     543|   8|    47|\n",
      "|2014|    5| 12|    1655|       -5|    1842|      -18|     VX| N361VA|   755|   SEA| SFO|      98|     679|  16|    55|\n",
      "|2014|    4| 19|    1236|       -4|    1508|       -7|     AS| N309AS|   490|   SEA| SAN|     135|    1050|  12|    36|\n",
      "|2014|   11| 19|    1812|       -3|    2352|       -4|     AS| N564AS|    26|   SEA| ORD|     198|    1721|  18|    12|\n",
      "+----+-----+---+--------+---------+--------+---------+-------+-------+------+------+----+--------+--------+----+------+\n",
      "only showing top 10 rows\n",
      "\n"
     ]
    }
   ],
   "source": [
    "df_voos.show(10)"
   ]
  },
  {
   "cell_type": "code",
   "execution_count": 20,
   "id": "37c16545-6766-4e47-85e7-c806c80e426d",
   "metadata": {},
   "outputs": [],
   "source": [
    "# Cria a coluna de duração dos voos em horas (tarefa de engenharia de atributos)\n",
    "df_dsa_voos = df_dsa_voos.withColumn('duration_hrs', round(df_dsa_voos.air_time / 60, 2))"
   ]
  },
  {
   "cell_type": "code",
   "execution_count": 21,
   "id": "134518f9",
   "metadata": {},
   "outputs": [
    {
     "name": "stdout",
     "output_type": "stream",
     "text": [
      "+----+-----+---+--------+---------+--------+---------+-------+-------+------+------+----+--------+--------+----+------+------------+\n",
      "|year|month|day|dep_time|dep_delay|arr_time|arr_delay|carrier|tailnum|flight|origin|dest|air_time|distance|hour|minute|duration_hrs|\n",
      "+----+-----+---+--------+---------+--------+---------+-------+-------+------+------+----+--------+--------+----+------+------------+\n",
      "|2014|   12|  8|     658|       -7|     935|       -5|     VX| N846VA|  1780|   SEA| LAX|     132|     954|   6|    58|         2.2|\n",
      "|2014|    1| 22|    1040|        5|    1505|        5|     AS| N559AS|   851|   SEA| HNL|     360|    2677|  10|    40|         6.0|\n",
      "|2014|    3|  9|    1443|       -2|    1652|        2|     VX| N847VA|   755|   SEA| SFO|     111|     679|  14|    43|        1.85|\n",
      "|2014|    4|  9|    1705|       45|    1839|       34|     WN| N360SW|   344|   PDX| SJC|      83|     569|  17|     5|        1.38|\n",
      "|2014|    3|  9|     754|       -1|    1015|        1|     AS| N612AS|   522|   SEA| BUR|     127|     937|   7|    54|        2.12|\n",
      "|2014|    1| 15|    1037|        7|    1352|        2|     WN| N646SW|    48|   PDX| DEN|     121|     991|  10|    37|        2.02|\n",
      "|2014|    7|  2|     847|       42|    1041|       51|     WN| N422WN|  1520|   PDX| OAK|      90|     543|   8|    47|         1.5|\n",
      "|2014|    5| 12|    1655|       -5|    1842|      -18|     VX| N361VA|   755|   SEA| SFO|      98|     679|  16|    55|        1.63|\n",
      "|2014|    4| 19|    1236|       -4|    1508|       -7|     AS| N309AS|   490|   SEA| SAN|     135|    1050|  12|    36|        2.25|\n",
      "|2014|   11| 19|    1812|       -3|    2352|       -4|     AS| N564AS|    26|   SEA| ORD|     198|    1721|  18|    12|         3.3|\n",
      "+----+-----+---+--------+---------+--------+---------+-------+-------+------+------+----+--------+--------+----+------+------------+\n",
      "only showing top 10 rows\n",
      "\n"
     ]
    }
   ],
   "source": [
    "df_dsa_voos.show(10)"
   ]
  },
  {
   "cell_type": "code",
   "execution_count": 22,
   "id": "7728f8b7-6e00-4962-a8f5-c5d4a9402662",
   "metadata": {},
   "outputs": [],
   "source": [
    "# Filtro para visualizar os voos mais longos\n",
    "df_voos_longos_1 = df_dsa_voos.filter('distance > 1000')"
   ]
  },
  {
   "cell_type": "code",
   "execution_count": 23,
   "id": "fda94395",
   "metadata": {},
   "outputs": [
    {
     "name": "stdout",
     "output_type": "stream",
     "text": [
      "+----+-----+---+--------+---------+--------+---------+-------+-------+------+------+----+--------+--------+----+------+------------+\n",
      "|year|month|day|dep_time|dep_delay|arr_time|arr_delay|carrier|tailnum|flight|origin|dest|air_time|distance|hour|minute|duration_hrs|\n",
      "+----+-----+---+--------+---------+--------+---------+-------+-------+------+------+----+--------+--------+----+------+------------+\n",
      "|2014|    1| 22|    1040|        5|    1505|        5|     AS| N559AS|   851|   SEA| HNL|     360|    2677|  10|    40|         6.0|\n",
      "|2014|    4| 19|    1236|       -4|    1508|       -7|     AS| N309AS|   490|   SEA| SAN|     135|    1050|  12|    36|        2.25|\n",
      "|2014|   11| 19|    1812|       -3|    2352|       -4|     AS| N564AS|    26|   SEA| ORD|     198|    1721|  18|    12|         3.3|\n",
      "|2014|    8|  3|    1120|        0|    1415|        2|     AS| N305AS|   656|   SEA| PHX|     154|    1107|  11|    20|        2.57|\n",
      "|2014|   11| 12|    2346|       -4|     217|      -28|     AS| N765AS|   121|   SEA| ANC|     183|    1448|  23|    46|        3.05|\n",
      "|2014|    8| 11|    1017|       -3|    1613|       -7|     WN| N8634A|   827|   SEA| MDW|     216|    1733|  10|    17|         3.6|\n",
      "|2014|    1| 13|    2156|       -9|     607|      -15|     AS| N597AS|    24|   SEA| BOS|     290|    2496|  21|    56|        4.83|\n",
      "|2014|    9| 26|     610|       -5|    1523|       65|     US| N127UW|   616|   SEA| PHL|     293|    2378|   6|    10|        4.88|\n",
      "|2014|   12|  4|     954|       -6|    1348|      -17|     HA| N395HA|    29|   SEA| OGG|     333|    2640|   9|    54|        5.55|\n",
      "|2014|    6|  4|    1115|        0|    1346|       -3|     AS| N461AS|   488|   SEA| SAN|     133|    1050|  11|    15|        2.22|\n",
      "+----+-----+---+--------+---------+--------+---------+-------+-------+------+------+----+--------+--------+----+------+------------+\n",
      "only showing top 10 rows\n",
      "\n"
     ]
    }
   ],
   "source": [
    "df_voos_longos_1.show(10)"
   ]
  },
  {
   "cell_type": "code",
   "execution_count": 24,
   "id": "f7655561-71f2-4f2d-b1bd-e6a25517f479",
   "metadata": {},
   "outputs": [],
   "source": [
    "# Ordena o DataFrame pela coluna 'duration_hrs' em ordem decrescente\n",
    "df_voos_longos_1_sorted = df_voos_longos_1.orderBy(desc('duration_hrs'))"
   ]
  },
  {
   "cell_type": "code",
   "execution_count": 25,
   "id": "4db2b50c-4062-4718-8552-da22801446cc",
   "metadata": {},
   "outputs": [
    {
     "name": "stdout",
     "output_type": "stream",
     "text": [
      "+----+-----+---+--------+---------+--------+---------+-------+-------+------+------+----+--------+--------+----+------+------------+\n",
      "|year|month|day|dep_time|dep_delay|arr_time|arr_delay|carrier|tailnum|flight|origin|dest|air_time|distance|hour|minute|duration_hrs|\n",
      "+----+-----+---+--------+---------+--------+---------+-------+-------+------+------+----+--------+--------+----+------+------------+\n",
      "|2014|    3| 15|    1822|       -8|    2233|       58|     AS| N516AS|   815|   SEA| LIH|     409|    2701|  18|    22|        6.82|\n",
      "|2014|    2| 13|     824|       -6|    1329|       34|     AS| N536AS|   861|   SEA| OGG|     403|    2640|   8|    24|        6.72|\n",
      "|2014|   12| 23|     809|       -6|    1309|       40|     DL| N548US|  2210|   SEA| HNL|     399|    2677|   8|     9|        6.65|\n",
      "|2014|    2| 13|     714|       -6|    1223|       41|     AS| N557AS|   855|   PDX| KOA|     396|    2607|   7|    14|         6.6|\n",
      "|2014|    3|  6|    1815|       -5|    2310|       15|     AS| N513AS|   859|   SEA| HNL|     392|    2677|  18|    15|        6.53|\n",
      "|2014|    2| 17|    1024|        9|    1515|       40|     AS| N508AS|   843|   SEA| KOA|     391|    2688|  10|    24|        6.52|\n",
      "|2014|    1| 27|    1828|      -12|    2315|       20|     AS| N518AS|   863|   PDX| OGG|     389|    2562|  18|    28|        6.48|\n",
      "|2014|    2|  6|    1801|       21|    2247|       37|     AS| N565AS|   815|   SEA| LIH|     389|    2701|  18|     1|        6.48|\n",
      "|2014|    3|  7|    1731|      -17|    2217|       20|     DL| N581NW|  2237|   SEA| HNL|     386|    2677|  17|    31|        6.43|\n",
      "|2014|    2|  7|    1120|        0|    1611|       36|     AS| N566AS|   809|   PDX| OGG|     382|    2562|  11|    20|        6.37|\n",
      "+----+-----+---+--------+---------+--------+---------+-------+-------+------+------+----+--------+--------+----+------+------------+\n",
      "only showing top 10 rows\n",
      "\n"
     ]
    }
   ],
   "source": [
    "# Exibe o resultado ordenado\n",
    "df_voos_longos_1_sorted.show(10)"
   ]
  },
  {
   "cell_type": "code",
   "execution_count": 26,
   "id": "6f387849-8cce-46ff-87eb-2579450c0110",
   "metadata": {},
   "outputs": [],
   "source": [
    "# Mesma regra anterior, com sintaxe diferente\n",
    "# Filtra os voos com distância maior que 1000 e ordena pela coluna 'distance' em ordem descendente\n",
    "df_voos_longos_2 = df_dsa_voos.filter(df_dsa_voos.distance > 1000).orderBy(desc('duration_hrs'))"
   ]
  },
  {
   "cell_type": "code",
   "execution_count": 27,
   "id": "33500703",
   "metadata": {},
   "outputs": [
    {
     "name": "stderr",
     "output_type": "stream",
     "text": [
      "[Stage 15:>                                                         (0 + 1) / 1]\r"
     ]
    },
    {
     "name": "stdout",
     "output_type": "stream",
     "text": [
      "+----+-----+---+--------+---------+--------+---------+-------+-------+------+------+----+--------+--------+----+------+------------+\n",
      "|year|month|day|dep_time|dep_delay|arr_time|arr_delay|carrier|tailnum|flight|origin|dest|air_time|distance|hour|minute|duration_hrs|\n",
      "+----+-----+---+--------+---------+--------+---------+-------+-------+------+------+----+--------+--------+----+------+------------+\n",
      "|2014|    3| 15|    1822|       -8|    2233|       58|     AS| N516AS|   815|   SEA| LIH|     409|    2701|  18|    22|        6.82|\n",
      "|2014|    2| 13|     824|       -6|    1329|       34|     AS| N536AS|   861|   SEA| OGG|     403|    2640|   8|    24|        6.72|\n",
      "|2014|   12| 23|     809|       -6|    1309|       40|     DL| N548US|  2210|   SEA| HNL|     399|    2677|   8|     9|        6.65|\n",
      "|2014|    2| 13|     714|       -6|    1223|       41|     AS| N557AS|   855|   PDX| KOA|     396|    2607|   7|    14|         6.6|\n",
      "|2014|    3|  6|    1815|       -5|    2310|       15|     AS| N513AS|   859|   SEA| HNL|     392|    2677|  18|    15|        6.53|\n",
      "|2014|    2| 17|    1024|        9|    1515|       40|     AS| N508AS|   843|   SEA| KOA|     391|    2688|  10|    24|        6.52|\n",
      "|2014|    1| 27|    1828|      -12|    2315|       20|     AS| N518AS|   863|   PDX| OGG|     389|    2562|  18|    28|        6.48|\n",
      "|2014|    2|  6|    1801|       21|    2247|       37|     AS| N565AS|   815|   SEA| LIH|     389|    2701|  18|     1|        6.48|\n",
      "|2014|    3|  7|    1731|      -17|    2217|       20|     DL| N581NW|  2237|   SEA| HNL|     386|    2677|  17|    31|        6.43|\n",
      "|2014|    2|  7|    1120|        0|    1611|       36|     AS| N566AS|   809|   PDX| OGG|     382|    2562|  11|    20|        6.37|\n",
      "+----+-----+---+--------+---------+--------+---------+-------+-------+------+------+----+--------+--------+----+------+------------+\n",
      "only showing top 10 rows\n",
      "\n"
     ]
    },
    {
     "name": "stderr",
     "output_type": "stream",
     "text": [
      "                                                                                \r"
     ]
    }
   ],
   "source": [
    "df_voos_longos_2.show(10)"
   ]
  },
  {
   "cell_type": "code",
   "execution_count": 28,
   "id": "1c2ec40f-ef4c-4ccc-bf58-9bb75ae9d157",
   "metadata": {},
   "outputs": [],
   "source": [
    "# Selecionando 3 colunas\n",
    "selected_1 = df_dsa_voos.select('tailnum', 'origin', 'dest')"
   ]
  },
  {
   "cell_type": "code",
   "execution_count": 29,
   "id": "3a8f7792-1581-4e4c-ba2b-0650a50f095a",
   "metadata": {},
   "outputs": [],
   "source": [
    "# Select de 3 colunas com outra sintaxe\n",
    "temp = df_dsa_voos.select(df_dsa_voos.origin, df_dsa_voos.dest, df_dsa_voos.carrier)"
   ]
  },
  {
   "cell_type": "code",
   "execution_count": 30,
   "id": "1e47d98a-4fb5-4065-8231-627789183def",
   "metadata": {},
   "outputs": [],
   "source": [
    "# Criando 2 filtros\n",
    "FilterA = df_dsa_voos.origin == 'SEA'\n",
    "FilterB = df_dsa_voos.dest == 'PDX'"
   ]
  },
  {
   "cell_type": "code",
   "execution_count": 31,
   "id": "604aa8e4-f757-4e51-b26c-fe9554ecf949",
   "metadata": {},
   "outputs": [],
   "source": [
    "# Aplicando a função Filter com os filtros criados\n",
    "selected_2 = temp.filter(FilterA).filter(FilterB)"
   ]
  },
  {
   "cell_type": "code",
   "execution_count": 32,
   "id": "d38e996f",
   "metadata": {},
   "outputs": [
    {
     "name": "stdout",
     "output_type": "stream",
     "text": [
      "+------+----+-------+\n",
      "|origin|dest|carrier|\n",
      "+------+----+-------+\n",
      "|   SEA| PDX|     OO|\n",
      "|   SEA| PDX|     OO|\n",
      "|   SEA| PDX|     OO|\n",
      "|   SEA| PDX|     OO|\n",
      "|   SEA| PDX|     OO|\n",
      "|   SEA| PDX|     AS|\n",
      "|   SEA| PDX|     OO|\n",
      "|   SEA| PDX|     OO|\n",
      "|   SEA| PDX|     OO|\n",
      "|   SEA| PDX|     OO|\n",
      "|   SEA| PDX|     OO|\n",
      "|   SEA| PDX|     OO|\n",
      "|   SEA| PDX|     OO|\n",
      "|   SEA| PDX|     OO|\n",
      "|   SEA| PDX|     AS|\n",
      "|   SEA| PDX|     OO|\n",
      "|   SEA| PDX|     OO|\n",
      "|   SEA| PDX|     OO|\n",
      "|   SEA| PDX|     OO|\n",
      "|   SEA| PDX|     OO|\n",
      "+------+----+-------+\n",
      "only showing top 20 rows\n",
      "\n"
     ]
    }
   ],
   "source": [
    "selected_2.show()"
   ]
  },
  {
   "cell_type": "code",
   "execution_count": 33,
   "id": "f0d1fc22-d595-4752-8aff-81f09c9adefa",
   "metadata": {},
   "outputs": [],
   "source": [
    "# Calculando a velocidade média dos voos\n",
    "avg_speed = (df_dsa_voos.distance / (df_dsa_voos.air_time / 60)).alias(\"avg_speed\")"
   ]
  },
  {
   "cell_type": "code",
   "execution_count": 34,
   "id": "f859bd5f-09ec-4284-9402-df49140fcc1f",
   "metadata": {},
   "outputs": [
    {
     "name": "stdout",
     "output_type": "stream",
     "text": [
      "+----+-----+---+--------+---------+--------+---------+-------+-------+------+------+----+--------+--------+----+------+------------+\n",
      "|year|month|day|dep_time|dep_delay|arr_time|arr_delay|carrier|tailnum|flight|origin|dest|air_time|distance|hour|minute|duration_hrs|\n",
      "+----+-----+---+--------+---------+--------+---------+-------+-------+------+------+----+--------+--------+----+------+------------+\n",
      "|2014|   12|  8|     658|       -7|     935|       -5|     VX| N846VA|  1780|   SEA| LAX|     132|     954|   6|    58|         2.2|\n",
      "|2014|    1| 22|    1040|        5|    1505|        5|     AS| N559AS|   851|   SEA| HNL|     360|    2677|  10|    40|         6.0|\n",
      "|2014|    3|  9|    1443|       -2|    1652|        2|     VX| N847VA|   755|   SEA| SFO|     111|     679|  14|    43|        1.85|\n",
      "|2014|    4|  9|    1705|       45|    1839|       34|     WN| N360SW|   344|   PDX| SJC|      83|     569|  17|     5|        1.38|\n",
      "|2014|    3|  9|     754|       -1|    1015|        1|     AS| N612AS|   522|   SEA| BUR|     127|     937|   7|    54|        2.12|\n",
      "+----+-----+---+--------+---------+--------+---------+-------+-------+------+------+----+--------+--------+----+------+------------+\n",
      "only showing top 5 rows\n",
      "\n"
     ]
    }
   ],
   "source": [
    "df_dsa_voos.show(5)"
   ]
  },
  {
   "cell_type": "code",
   "execution_count": 35,
   "id": "a042f807",
   "metadata": {},
   "outputs": [],
   "source": [
    "# Adicionando a nova variável ao select\n",
    "speed_1 = df_dsa_voos.select('origin', 'dest', 'tailnum', avg_speed)"
   ]
  },
  {
   "cell_type": "code",
   "execution_count": 36,
   "id": "d2b6b7ea-9c41-47f1-b45b-b98982aa42a6",
   "metadata": {},
   "outputs": [
    {
     "name": "stdout",
     "output_type": "stream",
     "text": [
      "+------+----+-------+------------------+\n",
      "|origin|dest|tailnum|         avg_speed|\n",
      "+------+----+-------+------------------+\n",
      "|   SEA| LAX| N846VA| 433.6363636363636|\n",
      "|   SEA| HNL| N559AS| 446.1666666666667|\n",
      "|   SEA| SFO| N847VA|367.02702702702703|\n",
      "|   PDX| SJC| N360SW| 411.3253012048193|\n",
      "|   SEA| BUR| N612AS| 442.6771653543307|\n",
      "|   PDX| DEN| N646SW|491.40495867768595|\n",
      "|   PDX| OAK| N422WN|             362.0|\n",
      "|   SEA| SFO| N361VA| 415.7142857142857|\n",
      "|   SEA| SAN| N309AS| 466.6666666666667|\n",
      "|   SEA| ORD| N564AS| 521.5151515151515|\n",
      "|   SEA| LAX| N323AS| 440.3076923076923|\n",
      "|   SEA| PHX| N305AS|431.29870129870125|\n",
      "|   SEA| LAS| N433AS| 409.6062992125984|\n",
      "|   SEA| ANC| N765AS|474.75409836065575|\n",
      "|   SEA| SFO| N713AS| 315.8139534883721|\n",
      "|   PDX| SFO| N27205| 366.6666666666667|\n",
      "|   SEA| SMF| N626AS|477.63157894736844|\n",
      "|   SEA| MDW| N8634A|481.38888888888886|\n",
      "|   SEA| BOS| N597AS| 516.4137931034483|\n",
      "|   PDX| BUR| N215AG| 441.6216216216216|\n",
      "+------+----+-------+------------------+\n",
      "only showing top 20 rows\n",
      "\n"
     ]
    }
   ],
   "source": [
    "speed_1.show()"
   ]
  },
  {
   "cell_type": "code",
   "execution_count": 37,
   "id": "81f863e0-21d8-4953-a7ca-dccd9a58c335",
   "metadata": {},
   "outputs": [],
   "source": [
    "# Fazendo o cálculo direto no select\n",
    "speed_2 = df_dsa_voos.selectExpr('origin', 'dest', 'tailnum', 'round(distance/(air_time/60), 2) as avg_speed')"
   ]
  },
  {
   "cell_type": "code",
   "execution_count": 38,
   "id": "f244677f",
   "metadata": {},
   "outputs": [
    {
     "name": "stdout",
     "output_type": "stream",
     "text": [
      "+------+----+-------+---------+\n",
      "|origin|dest|tailnum|avg_speed|\n",
      "+------+----+-------+---------+\n",
      "|   SEA| LAX| N846VA|   433.64|\n",
      "|   SEA| HNL| N559AS|   446.17|\n",
      "|   SEA| SFO| N847VA|   367.03|\n",
      "|   PDX| SJC| N360SW|   411.33|\n",
      "|   SEA| BUR| N612AS|   442.68|\n",
      "|   PDX| DEN| N646SW|    491.4|\n",
      "|   PDX| OAK| N422WN|    362.0|\n",
      "|   SEA| SFO| N361VA|   415.71|\n",
      "|   SEA| SAN| N309AS|   466.67|\n",
      "|   SEA| ORD| N564AS|   521.52|\n",
      "|   SEA| LAX| N323AS|   440.31|\n",
      "|   SEA| PHX| N305AS|    431.3|\n",
      "|   SEA| LAS| N433AS|   409.61|\n",
      "|   SEA| ANC| N765AS|   474.75|\n",
      "|   SEA| SFO| N713AS|   315.81|\n",
      "|   PDX| SFO| N27205|   366.67|\n",
      "|   SEA| SMF| N626AS|   477.63|\n",
      "|   SEA| MDW| N8634A|   481.39|\n",
      "|   SEA| BOS| N597AS|   516.41|\n",
      "|   PDX| BUR| N215AG|   441.62|\n",
      "+------+----+-------+---------+\n",
      "only showing top 20 rows\n",
      "\n"
     ]
    }
   ],
   "source": [
    "speed_2.show()"
   ]
  },
  {
   "cell_type": "code",
   "execution_count": 39,
   "id": "a6ceafbc-07da-46db-93af-11009515f5ba",
   "metadata": {},
   "outputs": [
    {
     "name": "stderr",
     "output_type": "stream",
     "text": [
      "[Stage 20:>                                                         (0 + 1) / 1]\r"
     ]
    },
    {
     "name": "stdout",
     "output_type": "stream",
     "text": [
      "+-------+------------------+-----------------+\n",
      "|summary|          air_time|         distance|\n",
      "+-------+------------------+-----------------+\n",
      "|  count|             10000|            10000|\n",
      "|   mean|152.88423173803525|        1208.1516|\n",
      "| stddev|  72.8656286392139|656.8599023464376|\n",
      "|    min|               100|             1009|\n",
      "|    max|                NA|              991|\n",
      "+-------+------------------+-----------------+\n",
      "\n"
     ]
    },
    {
     "name": "stderr",
     "output_type": "stream",
     "text": [
      "                                                                                \r"
     ]
    }
   ],
   "source": [
    "# Resumo de 2 variáveis\n",
    "df_dsa_voos.describe('air_time', 'distance').show()"
   ]
  },
  {
   "cell_type": "code",
   "execution_count": 40,
   "id": "9031fa23-f472-48e2-8703-296a47126e9f",
   "metadata": {},
   "outputs": [
    {
     "data": {
      "text/plain": [
       "[('year', 'string'),\n",
       " ('month', 'string'),\n",
       " ('day', 'string'),\n",
       " ('dep_time', 'string'),\n",
       " ('dep_delay', 'string'),\n",
       " ('arr_time', 'string'),\n",
       " ('arr_delay', 'string'),\n",
       " ('carrier', 'string'),\n",
       " ('tailnum', 'string'),\n",
       " ('flight', 'string'),\n",
       " ('origin', 'string'),\n",
       " ('dest', 'string'),\n",
       " ('air_time', 'string'),\n",
       " ('distance', 'string'),\n",
       " ('hour', 'string'),\n",
       " ('minute', 'string'),\n",
       " ('duration_hrs', 'double')]"
      ]
     },
     "execution_count": 40,
     "metadata": {},
     "output_type": "execute_result"
    }
   ],
   "source": [
    "# Mostra o tipo de dados de cada coluna\n",
    "df_dsa_voos.dtypes"
   ]
  },
  {
   "cell_type": "code",
   "execution_count": 41,
   "id": "a5ad8296-c6a4-475b-a9ff-40b13c6b43f7",
   "metadata": {},
   "outputs": [],
   "source": [
    "# Ajustando o tipo de dado de duas colunas\n",
    "df_dsa_voos = df_dsa_voos.withColumn('distance', df_dsa_voos.distance.cast('float'))\n",
    "df_dsa_voos = df_dsa_voos.withColumn('air_time', df_dsa_voos.air_time.cast('float'))"
   ]
  },
  {
   "cell_type": "code",
   "execution_count": 42,
   "id": "7f46790a-4c94-479c-bbe6-5955b3ecb576",
   "metadata": {},
   "outputs": [
    {
     "data": {
      "text/plain": [
       "[('year', 'string'),\n",
       " ('month', 'string'),\n",
       " ('day', 'string'),\n",
       " ('dep_time', 'string'),\n",
       " ('dep_delay', 'string'),\n",
       " ('arr_time', 'string'),\n",
       " ('arr_delay', 'string'),\n",
       " ('carrier', 'string'),\n",
       " ('tailnum', 'string'),\n",
       " ('flight', 'string'),\n",
       " ('origin', 'string'),\n",
       " ('dest', 'string'),\n",
       " ('air_time', 'float'),\n",
       " ('distance', 'float'),\n",
       " ('hour', 'string'),\n",
       " ('minute', 'string'),\n",
       " ('duration_hrs', 'double')]"
      ]
     },
     "execution_count": 42,
     "metadata": {},
     "output_type": "execute_result"
    }
   ],
   "source": [
    "# Mostra o tipo de dados de cada coluna\n",
    "df_dsa_voos.dtypes"
   ]
  },
  {
   "cell_type": "code",
   "execution_count": 43,
   "id": "d892a967",
   "metadata": {},
   "outputs": [
    {
     "name": "stdout",
     "output_type": "stream",
     "text": [
      "+-------+------------------+-----------------+\n",
      "|summary|          air_time|         distance|\n",
      "+-------+------------------+-----------------+\n",
      "|  count|              9925|            10000|\n",
      "|   mean|152.88423173803525|        1208.1516|\n",
      "| stddev|  72.8656286392139|656.8599023464376|\n",
      "|    min|              20.0|             93.0|\n",
      "|    max|             409.0|           2724.0|\n",
      "+-------+------------------+-----------------+\n",
      "\n"
     ]
    }
   ],
   "source": [
    "# Resumo de 2 variáveis\n",
    "df_dsa_voos.describe('air_time', 'distance').show()"
   ]
  },
  {
   "cell_type": "code",
   "execution_count": 44,
   "id": "4d27e8a4-deb8-457b-82b1-c9c6834680e2",
   "metadata": {},
   "outputs": [],
   "source": [
    "# Agrupamento por aeronave\n",
    "by_plane = df_dsa_voos.groupBy('tailnum')"
   ]
  },
  {
   "cell_type": "code",
   "execution_count": 45,
   "id": "33573c49-2bd1-4832-a096-a0327eaedb3f",
   "metadata": {},
   "outputs": [
    {
     "name": "stderr",
     "output_type": "stream",
     "text": [
      "[Stage 26:>                                                         (0 + 1) / 1]\r"
     ]
    },
    {
     "name": "stdout",
     "output_type": "stream",
     "text": [
      "+-------+-----+\n",
      "|tailnum|count|\n",
      "+-------+-----+\n",
      "| N442AS|   38|\n",
      "| N102UW|    2|\n",
      "| N36472|    4|\n",
      "| N38451|    4|\n",
      "| N73283|    4|\n",
      "| N513UA|    2|\n",
      "| N954WN|    5|\n",
      "| N388DA|    3|\n",
      "| N567AA|    1|\n",
      "| N516UA|    2|\n",
      "| N927DN|    1|\n",
      "| N8322X|    1|\n",
      "| N466SW|    1|\n",
      "|  N6700|    1|\n",
      "| N607AS|   45|\n",
      "| N622SW|    4|\n",
      "| N584AS|   31|\n",
      "| N914WN|    4|\n",
      "| N654AW|    2|\n",
      "| N336NW|    1|\n",
      "+-------+-----+\n",
      "only showing top 20 rows\n",
      "\n"
     ]
    },
    {
     "name": "stderr",
     "output_type": "stream",
     "text": [
      "                                                                                \r"
     ]
    }
   ],
   "source": [
    "# Contagem\n",
    "by_plane.count().show()"
   ]
  },
  {
   "cell_type": "code",
   "execution_count": 46,
   "id": "5ee70d2a-0fe2-4b51-973b-74d9d54d6f01",
   "metadata": {},
   "outputs": [],
   "source": [
    "# Agrupamento por origem do voo\n",
    "by_origin = df_dsa_voos.groupBy('origin')"
   ]
  },
  {
   "cell_type": "code",
   "execution_count": 47,
   "id": "be4061f8-4cf3-48cd-a8f9-1ae838f73684",
   "metadata": {},
   "outputs": [
    {
     "name": "stdout",
     "output_type": "stream",
     "text": [
      "+------+------------------+\n",
      "|origin|     avg(air_time)|\n",
      "+------+------------------+\n",
      "|   SEA| 160.4361496051259|\n",
      "|   PDX|137.11543248288737|\n",
      "+------+------------------+\n",
      "\n"
     ]
    }
   ],
   "source": [
    "# Média de tempo no ar por origem do voo\n",
    "by_origin.avg('air_time').show()"
   ]
  },
  {
   "cell_type": "code",
   "execution_count": 48,
   "id": "60a46588-dfdc-4ccc-b1cc-03b17c5d12fa",
   "metadata": {},
   "outputs": [
    {
     "name": "stdout",
     "output_type": "stream",
     "text": [
      "+-------+------------------+\n",
      "|summary|         dep_delay|\n",
      "+-------+------------------+\n",
      "|  count|             10000|\n",
      "|   mean| 6.068629421221865|\n",
      "| stddev|28.808608062751805|\n",
      "|    min|                -1|\n",
      "|    max|                NA|\n",
      "+-------+------------------+\n",
      "\n"
     ]
    }
   ],
   "source": [
    "# Resumo \n",
    "df_dsa_voos.describe('dep_delay').show()"
   ]
  },
  {
   "cell_type": "code",
   "execution_count": 49,
   "id": "b0524fe3",
   "metadata": {},
   "outputs": [],
   "source": [
    "# Ajustando o tipo de dado\n",
    "df_dsa_voos = df_dsa_voos.withColumn('dep_delay', df_dsa_voos.dep_delay.cast('float'))"
   ]
  },
  {
   "cell_type": "code",
   "execution_count": 50,
   "id": "a85702c9-a25a-4399-a7e1-7db21939ac9f",
   "metadata": {},
   "outputs": [
    {
     "name": "stdout",
     "output_type": "stream",
     "text": [
      "+-------+------------------+\n",
      "|summary|         dep_delay|\n",
      "+-------+------------------+\n",
      "|  count|              9952|\n",
      "|   mean| 6.068629421221865|\n",
      "| stddev|28.808608062751805|\n",
      "|    min|             -19.0|\n",
      "|    max|             886.0|\n",
      "+-------+------------------+\n",
      "\n"
     ]
    }
   ],
   "source": [
    "# Resumo \n",
    "df_dsa_voos.describe('dep_delay').show()"
   ]
  },
  {
   "cell_type": "code",
   "execution_count": 51,
   "id": "de7be361-e1db-4608-bcd9-743b494ea3d4",
   "metadata": {},
   "outputs": [],
   "source": [
    "# Agrupamento por mês e destino do voo\n",
    "by_month_dest = df_dsa_voos.groupBy('month', 'dest')"
   ]
  },
  {
   "cell_type": "code",
   "execution_count": 52,
   "id": "e11d5c5f-5d6f-45fd-92db-11088bea4c61",
   "metadata": {},
   "outputs": [
    {
     "name": "stdout",
     "output_type": "stream",
     "text": [
      "+-----+----+--------------------+\n",
      "|month|dest|      avg(dep_delay)|\n",
      "+-----+----+--------------------+\n",
      "|   11| TUS| -2.3333333333333335|\n",
      "|   11| ANC|   7.529411764705882|\n",
      "|    1| BUR|               -1.45|\n",
      "|    1| PDX| -5.6923076923076925|\n",
      "|    6| SBA|                -2.5|\n",
      "|    5| LAX|-0.15789473684210525|\n",
      "|   10| DTW|                 2.6|\n",
      "|    6| SIT|                -1.0|\n",
      "|   10| DFW|  18.176470588235293|\n",
      "|    3| FAI|                -2.2|\n",
      "|   10| SEA|                -0.8|\n",
      "|    2| TUS| -0.6666666666666666|\n",
      "|   12| OGG|  25.181818181818183|\n",
      "|    9| DFW|   4.066666666666666|\n",
      "|    5| EWR|               14.25|\n",
      "|    3| RDM|                -6.2|\n",
      "|    8| DCA|                 2.6|\n",
      "|    7| ATL|   4.675675675675675|\n",
      "|    4| JFK| 0.07142857142857142|\n",
      "|   10| SNA| -1.1333333333333333|\n",
      "+-----+----+--------------------+\n",
      "only showing top 20 rows\n",
      "\n"
     ]
    }
   ],
   "source": [
    "# Calculando a média\n",
    "by_month_dest.avg('dep_delay').show()"
   ]
  },
  {
   "cell_type": "code",
   "execution_count": 53,
   "id": "996fb414-406a-4c80-8a40-e7a5bd4b3882",
   "metadata": {},
   "outputs": [
    {
     "name": "stdout",
     "output_type": "stream",
     "text": [
      "+---+--------------------+----------------+-----------------+----+---+---+\n",
      "|faa|                name|             lat|              lon| alt| tz|dst|\n",
      "+---+--------------------+----------------+-----------------+----+---+---+\n",
      "|04G|   Lansdowne Airport|      41.1304722|      -80.6195833|1044| -5|  A|\n",
      "|06A|Moton Field Munic...|      32.4605722|      -85.6800278| 264| -5|  A|\n",
      "|06C| Schaumburg Regional|      41.9893408|      -88.1012428| 801| -6|  A|\n",
      "|06N|     Randall Airport|       41.431912|      -74.3915611| 523| -5|  A|\n",
      "|09J|Jekyll Island Air...|      31.0744722|      -81.4277778|  11| -4|  A|\n",
      "|0A9|Elizabethton Muni...|      36.3712222|      -82.1734167|1593| -4|  A|\n",
      "|0G6|Williams County A...|      41.4673056|      -84.5067778| 730| -5|  A|\n",
      "|0G7|Finger Lakes Regi...|      42.8835647|      -76.7812318| 492| -5|  A|\n",
      "|0P2|Shoestring Aviati...|      39.7948244|      -76.6471914|1000| -5|  U|\n",
      "|0S9|Jefferson County ...|      48.0538086|     -122.8106436| 108| -8|  A|\n",
      "|0W3|Harford County Ai...|      39.5668378|      -76.2024028| 409| -5|  A|\n",
      "|10C|  Galt Field Airport|      42.4028889|      -88.3751111| 875| -6|  U|\n",
      "|17G|Port Bucyrus-Craw...|      40.7815556|      -82.9748056|1003| -5|  A|\n",
      "|19A|Jackson County Ai...|      34.1758638|      -83.5615972| 951| -4|  U|\n",
      "|1A3|Martin Campbell F...|      35.0158056|      -84.3468333|1789| -4|  A|\n",
      "|1B9| Mansfield Municipal|      42.0001331|      -71.1967714| 122| -5|  A|\n",
      "|1C9|Frazier Lake Airpark|54.0133333333333|-124.768333333333| 152| -8|  A|\n",
      "|1CS|Clow Internationa...|      41.6959744|      -88.1292306| 670| -6|  U|\n",
      "|1G3|  Kent State Airport|      41.1513889|      -81.4151111|1134| -4|  A|\n",
      "|1OH|     Fortman Airport|      40.5553253|      -84.3866186| 885| -5|  U|\n",
      "+---+--------------------+----------------+-----------------+----+---+---+\n",
      "only showing top 20 rows\n",
      "\n"
     ]
    }
   ],
   "source": [
    "df_dsa_aeroportos.show()"
   ]
  },
  {
   "cell_type": "code",
   "execution_count": 54,
   "id": "090abfff-9fae-4ccd-a1a8-6e95c64d507e",
   "metadata": {},
   "outputs": [],
   "source": [
    "# Ajusta o título da coluna\n",
    "df_dsa_aeroportos = df_dsa_aeroportos.withColumnRenamed('faa', 'dest')"
   ]
  },
  {
   "cell_type": "code",
   "execution_count": 55,
   "id": "7f6d6d4f-2bab-4954-9df9-0a560e3e591e",
   "metadata": {},
   "outputs": [
    {
     "name": "stdout",
     "output_type": "stream",
     "text": [
      "+-------+----+--------------------+----------------+--------+-------+-----+-----+---------+\n",
      "|tailnum|year|                type|    manufacturer|   model|engines|seats|speed|   engine|\n",
      "+-------+----+--------------------+----------------+--------+-------+-----+-----+---------+\n",
      "| N102UW|1998|Fixed wing multi ...|AIRBUS INDUSTRIE|A320-214|      2|  182|   NA|Turbo-fan|\n",
      "| N103US|1999|Fixed wing multi ...|AIRBUS INDUSTRIE|A320-214|      2|  182|   NA|Turbo-fan|\n",
      "| N104UW|1999|Fixed wing multi ...|AIRBUS INDUSTRIE|A320-214|      2|  182|   NA|Turbo-fan|\n",
      "| N105UW|1999|Fixed wing multi ...|AIRBUS INDUSTRIE|A320-214|      2|  182|   NA|Turbo-fan|\n",
      "| N107US|1999|Fixed wing multi ...|AIRBUS INDUSTRIE|A320-214|      2|  182|   NA|Turbo-fan|\n",
      "+-------+----+--------------------+----------------+--------+-------+-----+-----+---------+\n",
      "only showing top 5 rows\n",
      "\n"
     ]
    }
   ],
   "source": [
    "df_dsa_aeronaves.show(5)"
   ]
  },
  {
   "cell_type": "code",
   "execution_count": 56,
   "id": "0825bb17-aef7-45f9-ba4b-3e87b54763e7",
   "metadata": {},
   "outputs": [],
   "source": [
    "# Ajusta o título da coluna\n",
    "df_dsa_aeronaves = df_dsa_aeronaves.withColumnRenamed('year', 'plane_year')"
   ]
  },
  {
   "cell_type": "markdown",
   "id": "0e30bf70",
   "metadata": {},
   "source": [
    "<!-- Projeto Desenvolvido na Data Science Academy - www.datascienceacademy.com.br -->\n",
    "## Concatenando os Datasets e Preparando o Dataset Final"
   ]
  },
  {
   "cell_type": "code",
   "execution_count": 57,
   "id": "4cf7abeb-089b-4e03-9182-ef12361cbda2",
   "metadata": {},
   "outputs": [
    {
     "name": "stdout",
     "output_type": "stream",
     "text": [
      "+----+--------------------+----------+-----------+----+---+---+\n",
      "|dest|                name|       lat|        lon| alt| tz|dst|\n",
      "+----+--------------------+----------+-----------+----+---+---+\n",
      "| 04G|   Lansdowne Airport|41.1304722|-80.6195833|1044| -5|  A|\n",
      "| 06A|Moton Field Munic...|32.4605722|-85.6800278| 264| -5|  A|\n",
      "| 06C| Schaumburg Regional|41.9893408|-88.1012428| 801| -6|  A|\n",
      "+----+--------------------+----------+-----------+----+---+---+\n",
      "only showing top 3 rows\n",
      "\n"
     ]
    }
   ],
   "source": [
    "df_dsa_aeroportos.show(3)"
   ]
  },
  {
   "cell_type": "code",
   "execution_count": 58,
   "id": "8655f099-2396-4563-9789-86aa86cd2fb1",
   "metadata": {},
   "outputs": [
    {
     "name": "stdout",
     "output_type": "stream",
     "text": [
      "+----+-----+---+--------+---------+--------+---------+-------+-------+------+------+----+--------+--------+----+------+------------+\n",
      "|year|month|day|dep_time|dep_delay|arr_time|arr_delay|carrier|tailnum|flight|origin|dest|air_time|distance|hour|minute|duration_hrs|\n",
      "+----+-----+---+--------+---------+--------+---------+-------+-------+------+------+----+--------+--------+----+------+------------+\n",
      "|2014|   12|  8|     658|     -7.0|     935|       -5|     VX| N846VA|  1780|   SEA| LAX|   132.0|   954.0|   6|    58|         2.2|\n",
      "|2014|    1| 22|    1040|      5.0|    1505|        5|     AS| N559AS|   851|   SEA| HNL|   360.0|  2677.0|  10|    40|         6.0|\n",
      "|2014|    3|  9|    1443|     -2.0|    1652|        2|     VX| N847VA|   755|   SEA| SFO|   111.0|   679.0|  14|    43|        1.85|\n",
      "+----+-----+---+--------+---------+--------+---------+-------+-------+------+------+----+--------+--------+----+------+------------+\n",
      "only showing top 3 rows\n",
      "\n"
     ]
    }
   ],
   "source": [
    "df_dsa_voos.show(3)"
   ]
  },
  {
   "cell_type": "code",
   "execution_count": 59,
   "id": "0f3d9d8d-76ab-4fa8-b263-c9f7a09d6978",
   "metadata": {},
   "outputs": [
    {
     "name": "stdout",
     "output_type": "stream",
     "text": [
      "+-------+----------+--------------------+----------------+--------+-------+-----+-----+---------+\n",
      "|tailnum|plane_year|                type|    manufacturer|   model|engines|seats|speed|   engine|\n",
      "+-------+----------+--------------------+----------------+--------+-------+-----+-----+---------+\n",
      "| N102UW|      1998|Fixed wing multi ...|AIRBUS INDUSTRIE|A320-214|      2|  182|   NA|Turbo-fan|\n",
      "| N103US|      1999|Fixed wing multi ...|AIRBUS INDUSTRIE|A320-214|      2|  182|   NA|Turbo-fan|\n",
      "| N104UW|      1999|Fixed wing multi ...|AIRBUS INDUSTRIE|A320-214|      2|  182|   NA|Turbo-fan|\n",
      "+-------+----------+--------------------+----------------+--------+-------+-----+-----+---------+\n",
      "only showing top 3 rows\n",
      "\n"
     ]
    }
   ],
   "source": [
    "df_dsa_aeronaves.show(3)"
   ]
  },
  {
   "cell_type": "code",
   "execution_count": 60,
   "id": "cc1de4e8-f708-4740-a7af-1d22e020e7fe",
   "metadata": {},
   "outputs": [],
   "source": [
    "# Concatena 2 datasets\n",
    "df_dsa_voos_aeroportos = df_dsa_voos.join(df_dsa_aeroportos, on='dest', how='leftouter')"
   ]
  },
  {
   "cell_type": "markdown",
   "id": "e8f66403-08f6-4edb-a473-f0684803a2bd",
   "metadata": {},
   "source": [
    "**on='dest':** Este parâmetro especifica que o join deve ser feito com base na coluna dest (destino) presente nos dois DataFrames. Neste caso, está associando os dados de voos (df_dsa_voos) com os dados dos aeroportos (df_dsa_aeroportos) com base na coluna dest, que representa o aeroporto de destino dos voos.\n",
    "\n",
    "**how='leftouter':** Especifica o tipo de join. O 'leftouter' (ou LEFT OUTER JOIN) significa que todos os registros do DataFrame à esquerda (df_dsa_voos) serão mantidos, e os registros correspondentes do DataFrame à direita (df_dsa_aeroportos) serão adicionados.\n",
    "Se não houver correspondência no DataFrame da direita (df_dsa_aeroportos), os valores das colunas do DataFrame direito serão null."
   ]
  },
  {
   "cell_type": "code",
   "execution_count": 61,
   "id": "9edec953",
   "metadata": {},
   "outputs": [
    {
     "name": "stdout",
     "output_type": "stream",
     "text": [
      "+----+----+-----+---+--------+---------+--------+---------+-------+-------+------+------+--------+--------+----+------+------------+--------------------+---------+-----------+---+---+---+\n",
      "|dest|year|month|day|dep_time|dep_delay|arr_time|arr_delay|carrier|tailnum|flight|origin|air_time|distance|hour|minute|duration_hrs|                name|      lat|        lon|alt| tz|dst|\n",
      "+----+----+-----+---+--------+---------+--------+---------+-------+-------+------+------+--------+--------+----+------+------------+--------------------+---------+-----------+---+---+---+\n",
      "| LAX|2014|   12|  8|     658|     -7.0|     935|       -5|     VX| N846VA|  1780|   SEA|   132.0|   954.0|   6|    58|         2.2|    Los Angeles Intl|33.942536|-118.408075|126| -8|  A|\n",
      "| HNL|2014|    1| 22|    1040|      5.0|    1505|        5|     AS| N559AS|   851|   SEA|   360.0|  2677.0|  10|    40|         6.0|       Honolulu Intl|21.318681|-157.922428| 13|-10|  N|\n",
      "| SFO|2014|    3|  9|    1443|     -2.0|    1652|        2|     VX| N847VA|   755|   SEA|   111.0|   679.0|  14|    43|        1.85|  San Francisco Intl|37.618972|-122.374889| 13| -8|  A|\n",
      "| SJC|2014|    4|  9|    1705|     45.0|    1839|       34|     WN| N360SW|   344|   PDX|    83.0|   569.0|  17|     5|        1.38|Norman Y Mineta S...|  37.3626|-121.929022| 62| -8|  A|\n",
      "| BUR|2014|    3|  9|     754|     -1.0|    1015|        1|     AS| N612AS|   522|   SEA|   127.0|   937.0|   7|    54|        2.12|            Bob Hope|34.200667|-118.358667|778| -8|  A|\n",
      "+----+----+-----+---+--------+---------+--------+---------+-------+-------+------+------+--------+--------+----+------+------------+--------------------+---------+-----------+---+---+---+\n",
      "only showing top 5 rows\n",
      "\n"
     ]
    }
   ],
   "source": [
    "df_dsa_voos_aeroportos.show(5)"
   ]
  },
  {
   "cell_type": "code",
   "execution_count": 62,
   "id": "9abcd763-3f75-43b0-8d1a-3d87b134512d",
   "metadata": {},
   "outputs": [],
   "source": [
    "# Concatena 2 datasets\n",
    "df_dsa_final = df_dsa_voos_aeroportos.join(df_dsa_aeronaves, on='tailnum', how='leftouter')"
   ]
  },
  {
   "cell_type": "code",
   "execution_count": 63,
   "id": "9325c239",
   "metadata": {},
   "outputs": [
    {
     "name": "stdout",
     "output_type": "stream",
     "text": [
      "+-------+----+----+-----+---+--------+---------+--------+---------+-------+------+------+--------+--------+----+------+------------+--------------------+---------+-----------+----+---+---+----------+--------------------+------------+--------+-------+-----+-----+---------+\n",
      "|tailnum|dest|year|month|day|dep_time|dep_delay|arr_time|arr_delay|carrier|flight|origin|air_time|distance|hour|minute|duration_hrs|                name|      lat|        lon| alt| tz|dst|plane_year|                type|manufacturer|   model|engines|seats|speed|   engine|\n",
      "+-------+----+----+-----+---+--------+---------+--------+---------+-------+------+------+--------+--------+----+------+------------+--------------------+---------+-----------+----+---+---+----------+--------------------+------------+--------+-------+-----+-----+---------+\n",
      "| N846VA| LAX|2014|   12|  8|     658|     -7.0|     935|       -5|     VX|  1780|   SEA|   132.0|   954.0|   6|    58|         2.2|    Los Angeles Intl|33.942536|-118.408075| 126| -8|  A|      2011|Fixed wing multi ...|      AIRBUS|A320-214|      2|  182|   NA|Turbo-fan|\n",
      "| N559AS| HNL|2014|    1| 22|    1040|      5.0|    1505|        5|     AS|   851|   SEA|   360.0|  2677.0|  10|    40|         6.0|       Honolulu Intl|21.318681|-157.922428|  13|-10|  N|      2006|Fixed wing multi ...|      BOEING| 737-890|      2|  149|   NA|Turbo-fan|\n",
      "| N847VA| SFO|2014|    3|  9|    1443|     -2.0|    1652|        2|     VX|   755|   SEA|   111.0|   679.0|  14|    43|        1.85|  San Francisco Intl|37.618972|-122.374889|  13| -8|  A|      2011|Fixed wing multi ...|      AIRBUS|A320-214|      2|  182|   NA|Turbo-fan|\n",
      "| N360SW| SJC|2014|    4|  9|    1705|     45.0|    1839|       34|     WN|   344|   PDX|    83.0|   569.0|  17|     5|        1.38|Norman Y Mineta S...|  37.3626|-121.929022|  62| -8|  A|      1992|Fixed wing multi ...|      BOEING| 737-3H4|      2|  149|   NA|Turbo-fan|\n",
      "| N612AS| BUR|2014|    3|  9|     754|     -1.0|    1015|        1|     AS|   522|   SEA|   127.0|   937.0|   7|    54|        2.12|            Bob Hope|34.200667|-118.358667| 778| -8|  A|      1999|Fixed wing multi ...|      BOEING| 737-790|      2|  151|   NA|Turbo-jet|\n",
      "| N646SW| DEN|2014|    1| 15|    1037|      7.0|    1352|        2|     WN|    48|   PDX|   121.0|   991.0|  10|    37|        2.02|         Denver Intl|39.861656|-104.673178|5431| -7|  A|      1997|Fixed wing multi ...|      BOEING| 737-3H4|      2|  149|   NA|Turbo-fan|\n",
      "| N422WN| OAK|2014|    7|  2|     847|     42.0|    1041|       51|     WN|  1520|   PDX|    90.0|   543.0|   8|    47|         1.5|Metropolitan Oakl...|37.721278|-122.220722|   9| -8|  A|      2002|Fixed wing multi ...|      BOEING| 737-7H4|      2|  140|   NA|Turbo-fan|\n",
      "| N361VA| SFO|2014|    5| 12|    1655|     -5.0|    1842|      -18|     VX|   755|   SEA|    98.0|   679.0|  16|    55|        1.63|  San Francisco Intl|37.618972|-122.374889|  13| -8|  A|      2013|Fixed wing multi ...|      AIRBUS|A320-214|      2|  182|   NA|Turbo-fan|\n",
      "| N309AS| SAN|2014|    4| 19|    1236|     -4.0|    1508|       -7|     AS|   490|   SEA|   135.0|  1050.0|  12|    36|        2.25|      San Diego Intl|32.733556|-117.189667|  17| -8|  A|      2001|Fixed wing multi ...|      BOEING| 737-990|      2|  149|   NA|Turbo-jet|\n",
      "| N564AS| ORD|2014|   11| 19|    1812|     -3.0|    2352|       -4|     AS|    26|   SEA|   198.0|  1721.0|  18|    12|         3.3|  Chicago Ohare Intl|41.978603| -87.904842| 668| -6|  A|      2006|Fixed wing multi ...|      BOEING| 737-890|      2|  149|   NA|Turbo-fan|\n",
      "+-------+----+----+-----+---+--------+---------+--------+---------+-------+------+------+--------+--------+----+------+------------+--------------------+---------+-----------+----+---+---+----------+--------------------+------------+--------+-------+-----+-----+---------+\n",
      "only showing top 10 rows\n",
      "\n"
     ]
    }
   ],
   "source": [
    "df_dsa_final.show(10)"
   ]
  },
  {
   "cell_type": "code",
   "execution_count": 64,
   "id": "40abdc28-d9c1-4bba-b621-8015b13c2dcf",
   "metadata": {},
   "outputs": [
    {
     "data": {
      "text/plain": [
       "[('tailnum', 'string'),\n",
       " ('dest', 'string'),\n",
       " ('year', 'string'),\n",
       " ('month', 'string'),\n",
       " ('day', 'string'),\n",
       " ('dep_time', 'string'),\n",
       " ('dep_delay', 'float'),\n",
       " ('arr_time', 'string'),\n",
       " ('arr_delay', 'string'),\n",
       " ('carrier', 'string'),\n",
       " ('flight', 'string'),\n",
       " ('origin', 'string'),\n",
       " ('air_time', 'float'),\n",
       " ('distance', 'float'),\n",
       " ('hour', 'string'),\n",
       " ('minute', 'string'),\n",
       " ('duration_hrs', 'double'),\n",
       " ('name', 'string'),\n",
       " ('lat', 'string'),\n",
       " ('lon', 'string'),\n",
       " ('alt', 'string'),\n",
       " ('tz', 'string'),\n",
       " ('dst', 'string'),\n",
       " ('plane_year', 'string'),\n",
       " ('type', 'string'),\n",
       " ('manufacturer', 'string'),\n",
       " ('model', 'string'),\n",
       " ('engines', 'string'),\n",
       " ('seats', 'string'),\n",
       " ('speed', 'string'),\n",
       " ('engine', 'string')]"
      ]
     },
     "execution_count": 64,
     "metadata": {},
     "output_type": "execute_result"
    }
   ],
   "source": [
    "df_dsa_final.dtypes"
   ]
  },
  {
   "cell_type": "code",
   "execution_count": 65,
   "id": "ecccabbd-cb1f-48cc-96ed-ef2d383c1944",
   "metadata": {},
   "outputs": [],
   "source": [
    "# Ajusta o tipo de dado\n",
    "df_dsa_final = df_dsa_final.withColumn('month', df_dsa_final.month.cast('integer'))\n",
    "df_dsa_final = df_dsa_final.withColumn('air_time' , df_dsa_final.air_time.cast('integer'))\n",
    "df_dsa_final = df_dsa_final.withColumn('arr_delay', df_dsa_final.arr_delay.cast('integer'))\n",
    "df_dsa_final = df_dsa_final.withColumn('plane_year', df_dsa_final.plane_year.cast('integer'))"
   ]
  },
  {
   "cell_type": "markdown",
   "id": "47744b41-5626-4596-b960-ef171ff9dccd",
   "metadata": {},
   "source": [
    "## Engenharia de Atributos"
   ]
  },
  {
   "cell_type": "code",
   "execution_count": 66,
   "id": "5cc9acf0-3a5b-454b-9a87-a9dacd3e5974",
   "metadata": {},
   "outputs": [
    {
     "name": "stdout",
     "output_type": "stream",
     "text": [
      "+-------+------------------+------------------+------------------+-----------------+\n",
      "|summary|             month|          air_time|         arr_delay|       plane_year|\n",
      "+-------+------------------+------------------+------------------+-----------------+\n",
      "|  count|             10000|              9925|              9925|             9354|\n",
      "|   mean|            6.6438|152.88423173803525|2.2530982367758186|2001.594398118452|\n",
      "| stddev|3.3191600205962097|  72.8656286392139|31.074918600451877|58.92921992728455|\n",
      "|    min|                 1|                20|               -58|                0|\n",
      "|    max|                12|               409|               900|             2014|\n",
      "+-------+------------------+------------------+------------------+-----------------+\n",
      "\n"
     ]
    }
   ],
   "source": [
    "df_dsa_final.describe('month', 'air_time', 'arr_delay', 'plane_year').show()"
   ]
  },
  {
   "cell_type": "code",
   "execution_count": 67,
   "id": "6122e420-7d16-4099-b585-1af066c6f9b8",
   "metadata": {},
   "outputs": [],
   "source": [
    "# Cria uma variável com a idade do avião\n",
    "df_dsa_final = df_dsa_final.withColumn('plane_age', df_dsa_final.year - df_dsa_final.plane_year)"
   ]
  },
  {
   "cell_type": "code",
   "execution_count": 68,
   "id": "79b31300-dab7-4ed7-82a4-9b69001418c4",
   "metadata": {},
   "outputs": [
    {
     "name": "stdout",
     "output_type": "stream",
     "text": [
      "+-----+--------+---------+---------+\n",
      "|month|air_time|arr_delay|plane_age|\n",
      "+-----+--------+---------+---------+\n",
      "|   12|     132|       -5|      3.0|\n",
      "|    1|     360|        5|      8.0|\n",
      "|    3|     111|        2|      3.0|\n",
      "|    4|      83|       34|     22.0|\n",
      "|    3|     127|        1|     15.0|\n",
      "|    1|     121|        2|     17.0|\n",
      "|    7|      90|       51|     12.0|\n",
      "|    5|      98|      -18|      1.0|\n",
      "|    4|     135|       -7|     13.0|\n",
      "|   11|     198|       -4|      8.0|\n",
      "+-----+--------+---------+---------+\n",
      "only showing top 10 rows\n",
      "\n"
     ]
    }
   ],
   "source": [
    "df_dsa_final.select('month', 'air_time', 'arr_delay', 'plane_age').show(10)"
   ]
  },
  {
   "cell_type": "code",
   "execution_count": 69,
   "id": "d0a95f82-0c72-4847-a27f-16dc68b00c44",
   "metadata": {},
   "outputs": [],
   "source": [
    "# Cria a variável \"is_late\" somente para os casos onde o atraso na chegada foi maior do que zero\n",
    "df_dsa_final = df_dsa_final.withColumn('is_late', df_dsa_final.arr_delay > 0)"
   ]
  },
  {
   "cell_type": "code",
   "execution_count": 70,
   "id": "06093d3d-b56f-4ba1-a8f7-1d9546ca1188",
   "metadata": {},
   "outputs": [
    {
     "name": "stdout",
     "output_type": "stream",
     "text": [
      "+-----+--------+---------+---------+-------+\n",
      "|month|air_time|arr_delay|plane_age|is_late|\n",
      "+-----+--------+---------+---------+-------+\n",
      "|   12|     132|       -5|      3.0|  false|\n",
      "|    1|     360|        5|      8.0|   true|\n",
      "|    3|     111|        2|      3.0|   true|\n",
      "|    4|      83|       34|     22.0|   true|\n",
      "|    3|     127|        1|     15.0|   true|\n",
      "|    1|     121|        2|     17.0|   true|\n",
      "|    7|      90|       51|     12.0|   true|\n",
      "|    5|      98|      -18|      1.0|  false|\n",
      "|    4|     135|       -7|     13.0|  false|\n",
      "|   11|     198|       -4|      8.0|  false|\n",
      "+-----+--------+---------+---------+-------+\n",
      "only showing top 10 rows\n",
      "\n"
     ]
    }
   ],
   "source": [
    "df_dsa_final.select('month', 'air_time', 'arr_delay', 'plane_age', 'is_late').show(10)"
   ]
  },
  {
   "cell_type": "code",
   "execution_count": 71,
   "id": "d8430b1a",
   "metadata": {},
   "outputs": [],
   "source": [
    "# A variável alvo (label) será \"is_late\", ou seja, se o voo vai atrasar ou não\n",
    "# Observe que o nome da coluna precisa ser \"label\" pois isso que o Spark espera como nome da coluna alvo\n",
    "df_dsa_final = df_dsa_final.withColumn('label', df_dsa_final.is_late.cast('integer'))"
   ]
  },
  {
   "cell_type": "code",
   "execution_count": 72,
   "id": "1e86e133-0c54-4993-863e-b8d4ed1ef66f",
   "metadata": {},
   "outputs": [
    {
     "name": "stdout",
     "output_type": "stream",
     "text": [
      "+-----+--------+---------+---------+-------+-----+\n",
      "|month|air_time|arr_delay|plane_age|is_late|label|\n",
      "+-----+--------+---------+---------+-------+-----+\n",
      "|   12|     132|       -5|      3.0|  false|    0|\n",
      "|    1|     360|        5|      8.0|   true|    1|\n",
      "|    3|     111|        2|      3.0|   true|    1|\n",
      "|    4|      83|       34|     22.0|   true|    1|\n",
      "|    3|     127|        1|     15.0|   true|    1|\n",
      "|    1|     121|        2|     17.0|   true|    1|\n",
      "|    7|      90|       51|     12.0|   true|    1|\n",
      "|    5|      98|      -18|      1.0|  false|    0|\n",
      "|    4|     135|       -7|     13.0|  false|    0|\n",
      "|   11|     198|       -4|      8.0|  false|    0|\n",
      "+-----+--------+---------+---------+-------+-----+\n",
      "only showing top 10 rows\n",
      "\n"
     ]
    }
   ],
   "source": [
    "df_dsa_final.select('month', 'air_time', 'arr_delay', 'plane_age', 'is_late', 'label').show(10)"
   ]
  },
  {
   "cell_type": "markdown",
   "id": "563c576f",
   "metadata": {},
   "source": [
    "## Pré-Processamento com String Indexer e One Hot Encoder"
   ]
  },
  {
   "cell_type": "code",
   "execution_count": 73,
   "id": "09b84682-3f3a-4401-9c10-a0bfd43de80d",
   "metadata": {},
   "outputs": [
    {
     "name": "stdout",
     "output_type": "stream",
     "text": [
      "+-------+----+\n",
      "|carrier|dest|\n",
      "+-------+----+\n",
      "|     VX| LAX|\n",
      "|     AS| HNL|\n",
      "|     VX| SFO|\n",
      "|     WN| SJC|\n",
      "|     AS| BUR|\n",
      "|     WN| DEN|\n",
      "|     WN| OAK|\n",
      "|     VX| SFO|\n",
      "|     AS| SAN|\n",
      "|     AS| ORD|\n",
      "+-------+----+\n",
      "only showing top 10 rows\n",
      "\n"
     ]
    }
   ],
   "source": [
    "df_dsa_final.select('carrier', 'dest').show(10)"
   ]
  },
  {
   "cell_type": "code",
   "execution_count": 74,
   "id": "cfd048c8-8edc-4051-ab03-2289ff9131fb",
   "metadata": {},
   "outputs": [],
   "source": [
    "# Cria os indexadores StringIndexer\n",
    "carr_indexer = StringIndexer(inputCol='carrier', outputCol='carrier_index')\n",
    "dest_indexer = StringIndexer(inputCol='dest', outputCol='dest_index')"
   ]
  },
  {
   "cell_type": "code",
   "execution_count": 75,
   "id": "9620c877",
   "metadata": {},
   "outputs": [],
   "source": [
    "# Cria os codificadores OneHotEncoder\n",
    "carr_encoder = OneHotEncoder(inputCol='carrier_index', outputCol='carr_fact')\n",
    "dest_encoder = OneHotEncoder(inputCol='dest_index', outputCol='dest_fact')"
   ]
  },
  {
   "cell_type": "code",
   "execution_count": 76,
   "id": "3d7b7ea4-36f9-4f49-86a8-ebf4b863ff24",
   "metadata": {},
   "outputs": [],
   "source": [
    "# Cria o vector assembler apenas fazendo skip para qualquer registro inválido\n",
    "# As variáveis de entrada estarão no vetor chamado features (tem que ser esse nome, o que é requerido pelo Spark)\n",
    "vec_assembler = VectorAssembler(inputCols = ['month', 'air_time', 'carr_fact', 'dest_fact', 'plane_age'],\n",
    "                                outputCol = 'features',\n",
    "                                handleInvalid = \"skip\")"
   ]
  },
  {
   "cell_type": "markdown",
   "id": "3c9e6e26-1afb-4645-9eea-ee78f4d0c208",
   "metadata": {},
   "source": [
    "- Dados de entrada --> ['month', 'air_time', 'carr_fact', 'dest_fact', 'plane_age'] como o vetor features.\n",
    "- Dados de saída --> ['is_late'] com o nome label."
   ]
  },
  {
   "cell_type": "markdown",
   "id": "49cf8729",
   "metadata": {},
   "source": [
    "## Criando o Pipeline de Pré-Processamento"
   ]
  },
  {
   "cell_type": "code",
   "execution_count": 77,
   "id": "e7433fa3-d372-42bf-849d-7434621963de",
   "metadata": {},
   "outputs": [],
   "source": [
    "# Cria o pipeline de transformação e pré-processamento\n",
    "dsa_pipe = Pipeline(stages = [dest_indexer, dest_encoder, carr_indexer, carr_encoder, vec_assembler])"
   ]
  },
  {
   "cell_type": "code",
   "execution_count": 78,
   "id": "853652e4-5967-498a-bc60-27b1f2218af8",
   "metadata": {},
   "outputs": [
    {
     "name": "stderr",
     "output_type": "stream",
     "text": [
      "                                                                                \r"
     ]
    }
   ],
   "source": [
    "# Treina e aplica o pipeline\n",
    "piped_data = dsa_pipe.fit(df_dsa_final).transform(df_dsa_final)"
   ]
  },
  {
   "cell_type": "code",
   "execution_count": 79,
   "id": "b7fb27b7-4c2c-406a-a20e-544138634227",
   "metadata": {},
   "outputs": [
    {
     "name": "stdout",
     "output_type": "stream",
     "text": [
      "+-------+----+----+-----+---+--------+---------+--------+---------+-------+------+------+--------+--------+----+------+------------+--------------------+---------+-----------+---+---+---+----------+--------------------+------------+--------+-------+-----+-----+---------+---------+-------+-----+----------+---------------+-------------+--------------+--------------------+\n",
      "|tailnum|dest|year|month|day|dep_time|dep_delay|arr_time|arr_delay|carrier|flight|origin|air_time|distance|hour|minute|duration_hrs|                name|      lat|        lon|alt| tz|dst|plane_year|                type|manufacturer|   model|engines|seats|speed|   engine|plane_age|is_late|label|dest_index|      dest_fact|carrier_index|     carr_fact|            features|\n",
      "+-------+----+----+-----+---+--------+---------+--------+---------+-------+------+------+--------+--------+----+------+------------+--------------------+---------+-----------+---+---+---+----------+--------------------+------------+--------+-------+-----+-----+---------+---------+-------+-----+----------+---------------+-------------+--------------+--------------------+\n",
      "| N846VA| LAX|2014|   12|  8|     658|     -7.0|     935|       -5|     VX|  1780|   SEA|     132|   954.0|   6|    58|         2.2|    Los Angeles Intl|33.942536|-118.408075|126| -8|  A|      2011|Fixed wing multi ...|      AIRBUS|A320-214|      2|  182|   NA|Turbo-fan|      3.0|  false|    0|       1.0| (68,[1],[1.0])|          8.0|(10,[8],[1.0])|(81,[0,1,10,13,80...|\n",
      "| N559AS| HNL|2014|    1| 22|    1040|      5.0|    1505|        5|     AS|   851|   SEA|     360|  2677.0|  10|    40|         6.0|       Honolulu Intl|21.318681|-157.922428| 13|-10|  N|      2006|Fixed wing multi ...|      BOEING| 737-890|      2|  149|   NA|Turbo-fan|      8.0|   true|    1|      22.0|(68,[22],[1.0])|          0.0|(10,[0],[1.0])|(81,[0,1,2,34,80]...|\n",
      "| N847VA| SFO|2014|    3|  9|    1443|     -2.0|    1652|        2|     VX|   755|   SEA|     111|   679.0|  14|    43|        1.85|  San Francisco Intl|37.618972|-122.374889| 13| -8|  A|      2011|Fixed wing multi ...|      AIRBUS|A320-214|      2|  182|   NA|Turbo-fan|      3.0|   true|    1|       0.0| (68,[0],[1.0])|          8.0|(10,[8],[1.0])|(81,[0,1,10,12,80...|\n",
      "| N360SW| SJC|2014|    4|  9|    1705|     45.0|    1839|       34|     WN|   344|   PDX|      83|   569.0|  17|     5|        1.38|Norman Y Mineta S...|  37.3626|-121.929022| 62| -8|  A|      1992|Fixed wing multi ...|      BOEING| 737-3H4|      2|  149|   NA|Turbo-fan|     22.0|   true|    1|       9.0| (68,[9],[1.0])|          1.0|(10,[1],[1.0])|(81,[0,1,3,21,80]...|\n",
      "| N612AS| BUR|2014|    3|  9|     754|     -1.0|    1015|        1|     AS|   522|   SEA|     127|   937.0|   7|    54|        2.12|            Bob Hope|34.200667|-118.358667|778| -8|  A|      1999|Fixed wing multi ...|      BOEING| 737-790|      2|  151|   NA|Turbo-jet|     15.0|   true|    1|      23.0|(68,[23],[1.0])|          0.0|(10,[0],[1.0])|(81,[0,1,2,35,80]...|\n",
      "+-------+----+----+-----+---+--------+---------+--------+---------+-------+------+------+--------+--------+----+------+------------+--------------------+---------+-----------+---+---+---+----------+--------------------+------------+--------+-------+-----+-----+---------+---------+-------+-----+----------+---------------+-------------+--------------+--------------------+\n",
      "only showing top 5 rows\n",
      "\n"
     ]
    },
    {
     "name": "stderr",
     "output_type": "stream",
     "text": [
      "                                                                                \r"
     ]
    }
   ],
   "source": [
    "piped_data.show(5)"
   ]
  },
  {
   "cell_type": "code",
   "execution_count": 80,
   "id": "6a828ebd-f9ba-45d4-a587-d5ee3d14c119",
   "metadata": {},
   "outputs": [
    {
     "name": "stdout",
     "output_type": "stream",
     "text": [
      "+--------------------------------------------+-----+\n",
      "|features                                    |label|\n",
      "+--------------------------------------------+-----+\n",
      "|(81,[0,1,10,13,80],[12.0,132.0,1.0,1.0,3.0])|0    |\n",
      "|(81,[0,1,2,34,80],[1.0,360.0,1.0,1.0,8.0])  |1    |\n",
      "|(81,[0,1,10,12,80],[3.0,111.0,1.0,1.0,3.0]) |1    |\n",
      "|(81,[0,1,3,21,80],[4.0,83.0,1.0,1.0,22.0])  |1    |\n",
      "|(81,[0,1,2,35,80],[3.0,127.0,1.0,1.0,15.0]) |1    |\n",
      "|(81,[0,1,3,14,80],[1.0,121.0,1.0,1.0,17.0]) |1    |\n",
      "|(81,[0,1,3,22,80],[7.0,90.0,1.0,1.0,12.0])  |1    |\n",
      "|(81,[0,1,10,12,80],[5.0,98.0,1.0,1.0,1.0])  |0    |\n",
      "|(81,[0,1,2,24,80],[4.0,135.0,1.0,1.0,13.0]) |0    |\n",
      "|(81,[0,1,2,18,80],[11.0,198.0,1.0,1.0,8.0]) |0    |\n",
      "|(81,[0,1,2,13,80],[11.0,130.0,1.0,1.0,10.0])|0    |\n",
      "|(81,[0,1,2,15,80],[8.0,154.0,1.0,1.0,13.0]) |1    |\n",
      "|(81,[0,1,2,16,80],[10.0,127.0,1.0,1.0,1.0]) |1    |\n",
      "|(81,[0,1,2,17,80],[11.0,183.0,1.0,1.0,22.0])|0    |\n",
      "|(81,[0,1,2,12,80],[10.0,129.0,1.0,1.0,15.0])|1    |\n",
      "|(81,[0,1,6,12,80],[1.0,90.0,1.0,1.0,14.0])  |1    |\n",
      "|(81,[0,1,2,23,80],[12.0,76.0,1.0,1.0,13.0]) |1    |\n",
      "|(81,[0,1,3,42],[8.0,216.0,1.0,1.0])         |0    |\n",
      "|(81,[0,1,2,36,80],[1.0,290.0,1.0,1.0,6.0])  |0    |\n",
      "|(81,[0,1,4,35,80],[6.0,111.0,1.0,1.0,13.0]) |0    |\n",
      "+--------------------------------------------+-----+\n",
      "only showing top 20 rows\n",
      "\n"
     ]
    },
    {
     "name": "stderr",
     "output_type": "stream",
     "text": [
      "                                                                                \r"
     ]
    }
   ],
   "source": [
    "# Dados de entrada e saída\n",
    "piped_data.select(\"features\", \"label\").show(truncate = False)"
   ]
  },
  {
   "cell_type": "code",
   "execution_count": 81,
   "id": "d0b4ef25-0678-4f45-9044-c11c1be7375c",
   "metadata": {},
   "outputs": [],
   "source": [
    "# Divide os dados em treino e teste com proporção 70/30\n",
    "dados_treino, dados_teste = piped_data.randomSplit([.7, .3])"
   ]
  },
  {
   "cell_type": "markdown",
   "id": "817743e8",
   "metadata": {},
   "source": [
    "## Ajustando o Número de Partições"
   ]
  },
  {
   "cell_type": "markdown",
   "id": "f9446d65",
   "metadata": {},
   "source": [
    "Se as partições dos dados forem muito grandes, o Spark pode ter dificuldades para distribuí-las eficientemente. Ajustar o tamanho das partições pode ajudar no processamento. Você pode utilizar o método repartition para dividir os dados em mais ou menos partições."
   ]
  },
  {
   "cell_type": "code",
   "execution_count": 82,
   "id": "4a955b92",
   "metadata": {},
   "outputs": [],
   "source": [
    "# Escolha um número de partições adequado ao tamanho do seu cluster e dos seus dados\n",
    "dados_treino = dados_treino.repartition(10)  "
   ]
  },
  {
   "cell_type": "markdown",
   "id": "c045901d",
   "metadata": {},
   "source": [
    "## Pipeline de Treinamento do Modelo de IA com PySpark em Ambiente Distribuído"
   ]
  },
  {
   "cell_type": "markdown",
   "id": "6d1404be",
   "metadata": {},
   "source": [
    "## Versão 1 do Modelo"
   ]
  },
  {
   "cell_type": "code",
   "execution_count": 83,
   "id": "aad2ee6b-854a-478e-a599-401661fd275c",
   "metadata": {},
   "outputs": [
    {
     "name": "stderr",
     "output_type": "stream",
     "text": [
      "[Stage 1877:>                                                       (0 + 1) / 1]\r"
     ]
    },
    {
     "name": "stdout",
     "output_type": "stream",
     "text": [
      "0.6342168404624947\n",
      "CPU times: user 3.04 s, sys: 1.83 s, total: 4.87 s\n",
      "Wall time: 8min 26s\n"
     ]
    },
    {
     "name": "stderr",
     "output_type": "stream",
     "text": [
      "                                                                                \r"
     ]
    }
   ],
   "source": [
    "%%time\n",
    "\n",
    "# Inicializa o modelo RandomForest\n",
    "modelo_dsa_rf = RandomForestClassifier()\n",
    "\n",
    "# Avaliador para medir a métrica \"areaUnderROC\"\n",
    "evaluator = BinaryClassificationEvaluator(metricName = 'areaUnderROC')\n",
    "\n",
    "# Cria o grid de parâmetros\n",
    "grid = ParamGridBuilder()\n",
    "\n",
    "# Adiciona os hiperparâmetros ao grid\n",
    "grid = grid.addGrid(modelo_dsa_rf.numTrees, [10, 50, 100])\n",
    "grid = grid.addGrid(modelo_dsa_rf.maxDepth, [5, 10, 20])\n",
    "\n",
    "# Constrói o grid\n",
    "grid = grid.build()\n",
    "\n",
    "# Cria o CrossValidator\n",
    "cv = CrossValidator(estimator = modelo_dsa_rf,\n",
    "                    estimatorParamMaps = grid,\n",
    "                    evaluator = evaluator)\n",
    "\n",
    "# Treina os modelos com validação cruzada\n",
    "modelos = cv.fit(dados_treino)\n",
    "\n",
    "# Extrai o melhor modelo\n",
    "best_rf = modelos.bestModel\n",
    "\n",
    "# Usa o modelo para prever o conjunto de teste\n",
    "test_results_rf = best_rf.transform(dados_teste)\n",
    "\n",
    "# Avalia as previsões\n",
    "print(evaluator.evaluate(test_results_rf))"
   ]
  },
  {
   "cell_type": "markdown",
   "id": "0a437169",
   "metadata": {},
   "source": [
    "## Versão 2 do Modelo"
   ]
  },
  {
   "cell_type": "code",
   "execution_count": 84,
   "id": "3aa39d2f",
   "metadata": {},
   "outputs": [
    {
     "name": "stderr",
     "output_type": "stream",
     "text": [
      "                                                                                \r"
     ]
    },
    {
     "name": "stdout",
     "output_type": "stream",
     "text": [
      "0.6953456784942735\n",
      "CPU times: user 3.22 s, sys: 2.63 s, total: 5.85 s\n",
      "Wall time: 5min 8s\n"
     ]
    }
   ],
   "source": [
    "%%time\n",
    "\n",
    "# Incializa o modelo de Regressão Logística\n",
    "modelo_dsa_rl = LogisticRegression()\n",
    "\n",
    "# Avaliador para medir a métrica \"areaUnderROC\"\n",
    "evaluator = evals.BinaryClassificationEvaluator(metricName = 'areaUnderROC')\n",
    "\n",
    "# Cria o grid de parâmetros\n",
    "grid = tune.ParamGridBuilder()\n",
    "\n",
    "# Adiciona os hiperparâmetros ao grid\n",
    "grid = grid.addGrid(modelo_dsa_rl.regParam, np.arange(0, .1, .01))\n",
    "grid = grid.addGrid(modelo_dsa_rl.elasticNetParam, [0,1])\n",
    "\n",
    "# Constrói o grid\n",
    "grid = grid.build()\n",
    "\n",
    "# Cria o CrossValidator\n",
    "cv = tune.CrossValidator(estimator = modelo_dsa_rl,\n",
    "                         estimatorParamMaps = grid,\n",
    "                         evaluator = evaluator)\n",
    "\n",
    "# Treina os modelos com validação cruzada\n",
    "modelos = cv.fit(dados_treino)\n",
    "\n",
    "# Extrai o melhor modelo\n",
    "best_lr = modelos.bestModel\n",
    "\n",
    "# Usa o modelo para prever o conjunto de teste\n",
    "test_results_rl = best_lr.transform(dados_teste)\n",
    "\n",
    "# Avalia as previsões\n",
    "print(evaluator.evaluate(test_results_rl))"
   ]
  },
  {
   "cell_type": "markdown",
   "id": "c05a3ae1",
   "metadata": {},
   "source": [
    "## Salvando Dados e Modelo em Formato Parquet"
   ]
  },
  {
   "cell_type": "code",
   "execution_count": 85,
   "id": "dd1ea4e1-fbb2-4a12-90f3-49c95db2e843",
   "metadata": {},
   "outputs": [
    {
     "name": "stderr",
     "output_type": "stream",
     "text": [
      "                                                                                \r"
     ]
    }
   ],
   "source": [
    "# Salva o DataFrame de treino em formato Parquet\n",
    "dados_treino.write.mode('overwrite').parquet('/opt/spark/data/dados_treino.parquet')"
   ]
  },
  {
   "cell_type": "code",
   "execution_count": 86,
   "id": "0474ae79-b891-4655-b5d0-f41bd434473c",
   "metadata": {},
   "outputs": [
    {
     "name": "stderr",
     "output_type": "stream",
     "text": [
      "                                                                                \r"
     ]
    }
   ],
   "source": [
    "# Salva o DataFrame de teste em formato Parquet\n",
    "dados_teste.write.mode('overwrite').parquet('/opt/spark/data/dados_teste.parquet')"
   ]
  },
  {
   "cell_type": "code",
   "execution_count": 87,
   "id": "715e0ae4-913d-4b9a-9937-c7adc91c34ad",
   "metadata": {},
   "outputs": [
    {
     "name": "stderr",
     "output_type": "stream",
     "text": [
      "                                                                                \r"
     ]
    }
   ],
   "source": [
    "# Salva o melhor modelo no disco\n",
    "best_lr.write().overwrite().save('/opt/spark/data/dsa_melhor_modelo_lr')"
   ]
  },
  {
   "cell_type": "code",
   "execution_count": 88,
   "id": "c0abac73-d57f-462d-8a7b-84a7715b194f",
   "metadata": {},
   "outputs": [
    {
     "name": "stdout",
     "output_type": "stream",
     "text": [
      "Found 6 items  \n",
      "drwxr-xr-x - root supergroup /opt/spark/data/dados_teste.parquet\n",
      "drwxr-xr-x - root supergroup /opt/spark/data/dados_treino.parquet\n",
      "-rw-r--r-- 2 root supergroup /opt/spark/data/dataset1.csv\n",
      "-rw-r--r-- 2 root supergroup /opt/spark/data/dataset2.csv\n",
      "-rw-r--r-- 2 root supergroup /opt/spark/data/dataset3.csv\n",
      "drwxr-xr-x - root supergroup /opt/spark/data/dsa_melhor_modelo_lr\n"
     ]
    }
   ],
   "source": [
    "# Verifica se os dados foram salvos no HDFS\n",
    "!hdfs dfs -ls /opt/spark/data/ | awk '{print $1, $2, $3, $4, $8}'"
   ]
  },
  {
   "cell_type": "code",
   "execution_count": 89,
   "id": "cacde2cc",
   "metadata": {},
   "outputs": [
    {
     "name": "stdout",
     "output_type": "stream",
     "text": [
      "Author: Data Science Academy\n",
      "\n"
     ]
    }
   ],
   "source": [
    "%reload_ext watermark\n",
    "%watermark -a \"Data Science Academy\""
   ]
  },
  {
   "cell_type": "markdown",
   "id": "84c6f357",
   "metadata": {},
   "source": [
    "# Fim"
   ]
  }
 ],
 "metadata": {
  "kernelspec": {
   "display_name": "Python 3 (ipykernel)",
   "language": "python",
   "name": "python3"
  },
  "language_info": {
   "codemirror_mode": {
    "name": "ipython",
    "version": 3
   },
   "file_extension": ".py",
   "mimetype": "text/x-python",
   "name": "python",
   "nbconvert_exporter": "python",
   "pygments_lexer": "ipython3",
   "version": "3.11.10"
  }
 },
 "nbformat": 4,
 "nbformat_minor": 5
}
